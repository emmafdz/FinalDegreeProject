{
 "cells": [
  {
   "cell_type": "code",
   "execution_count": 80,
   "metadata": {},
   "outputs": [],
   "source": [
    "import numpy as np\n",
    "import matplotlib.pyplot as plt\n",
    "import statsmodels.api as sm"
   ]
  },
  {
   "cell_type": "code",
   "execution_count": 70,
   "metadata": {},
   "outputs": [],
   "source": [
    "# Function of the drift diffusion model equation\n",
    "def perfect_integrator(x, dt, tau, mu, sigma_i, xi_i, sigma_s, xi_s, n_trials, stimulus_duration, frames_duration):\n",
    "    duration_stimulus = stimulus_duration/dt\n",
    "    duration_frames = int(frames_duration/dt)\n",
    "    stimulus_list = np.random.randn(n_trials, int(duration_stimulus/duration_frames))\n",
    "    decision_value_list = []\n",
    "    for stimulus in stimulus_list:\n",
    "            # The starting decision value will be 0:\n",
    "            x = 0\n",
    "            decision_value = [x]\n",
    "            # The process will be repeated a two hundred times (1 second stimulus)\n",
    "            for xi_s in stimulus:\n",
    "                for i in range(duration_frames):\n",
    "                    xi_i = np.random.randn(1)\n",
    "                    # Solved differential diffusion equation:\n",
    "                    x = x - (dt/tau)*(-mu)+np.sqrt(dt/tau)*(sigma_i*xi_i+sigma_s*xi_s)\n",
    "                    # All x will be stored in the deccision value list:\n",
    "                    decision_value.append(x)\n",
    "            decision_value_list.append(decision_value)\n",
    "    return decision_value_list, stimulus_list"
   ]
  },
  {
   "cell_type": "code",
   "execution_count": 111,
   "metadata": {},
   "outputs": [],
   "source": [
    "def DDM_absorbing(x, dt, tau, mu, sigma_i, xi_i, sigma_s, xi_s, n_trials, stimulus_duration, frames_duration,bound):\n",
    "    duration_stimulus = stimulus_duration/dt\n",
    "    duration_frames = int(frames_duration/dt)\n",
    "    stimulus_list = np.random.randn(n_trials, int(duration_stimulus/duration_frames))\n",
    "    decision_value_list = []\n",
    "    for stimulus in stimulus_list:\n",
    "            # The starting decision value will be 0:\n",
    "            x = 0\n",
    "            decision_value = [x]\n",
    "            # The process will be repeated a two hundred times (1 second stimulus)\n",
    "            for xi_s in stimulus:\n",
    "                for i in range(duration_frames):\n",
    "                    xi_i = np.random.randn(1)\n",
    "                    # Solved differential diffusion equation:\n",
    "                    x = x - (dt/tau)*(-mu)+np.sqrt(dt/tau)*(sigma_i*xi_i+sigma_s*xi_s)\n",
    "                    if x >= bound:\n",
    "                        if len(decision_value)<= duration_stimulus:\n",
    "                            reached_bound = True\n",
    "                            for i in range(duration_stimulus-len(decision_value)):\n",
    "                                decision_value.append(bound)\n",
    "                    if x <= -bound:\n",
    "                        if len(decision_value) <= duration_stimulus:\n",
    "                            reached_bound = True\n",
    "                            for i in range(duration_stimulus-len(decision_value)):\n",
    "                                decision_value.append(-bound)\n",
    "                    else:\n",
    "                        if len(decision_value) < duration_stimulus:\n",
    "                            # All x before reaching the bound value will be stored in the deccision value list:\n",
    "                            decision_value.append(x)\n",
    "                    # All x will be stored in the deccision value list:\n",
    "            decision_value_list.append(decision_value)\n",
    "    return decision_value_list, stimulus_list\n",
    "    "
   ]
  },
  {
   "cell_type": "code",
   "execution_count": 110,
   "metadata": {},
   "outputs": [],
   "source": [
    "# Function of the drift diffusion model equation\n",
    "def DDM_reflecting(x, dt, tau, mu, sigma_i, xi_i, sigma_s, xi_s, n_trials, stimulus_duration, frames_duration,bound):\n",
    "    duration_stimulus = stimulus_duration/dt\n",
    "    duration_frames = int(frames_duration/dt)\n",
    "    stimulus_list = np.random.randn(n_trials, int(duration_stimulus/duration_frames))\n",
    "    decision_value_list = []\n",
    "    for stimulus in stimulus_list:\n",
    "            # The starting decision value will be 0:\n",
    "            x = 0\n",
    "            decision_value = [x]\n",
    "            # The process will be repeated a two hundred times (1 second stimulus)\n",
    "            for xi_s in stimulus:\n",
    "                for i in range(duration_frames):\n",
    "                    xi_i = np.random.randn(1)\n",
    "                    # Solved differential diffusion equation:\n",
    "                    x = x - (dt/tau)*(-mu)+np.sqrt(dt/tau)*(sigma_i*xi_i+sigma_s*xi_s)\n",
    "                    if x >= bound:\n",
    "                        x = bound\n",
    "                    elif x <= -bound:\n",
    "                        x = -bound\n",
    "                    # All x will be stored in the deccision value list:\n",
    "                    decision_value.append(x)\n",
    "            decision_value_list.append(decision_value)\n",
    "    return decision_value_list, stimulus_list"
   ]
  },
  {
   "cell_type": "code",
   "execution_count": 109,
   "metadata": {},
   "outputs": [],
   "source": [
    "# Function of the double well model\n",
    "def DW(x, dt, tau, mu, sigma_i, xi_i, sigma_s, xi_s, alfa, n_trials, stimulus_duration, frames_duration):\n",
    "    duration_stimulus = stimulus_duration/dt\n",
    "    duration_frames = int(frames_duration/dt)\n",
    "    stimulus_list = np.random.randn(n_trials, int(duration_stimulus/duration_frames))\n",
    "    decision_value_list = []\n",
    "    for stimulus in stimulus_list:\n",
    "            # The starting decision value will be 0:\n",
    "            x = 0\n",
    "            decision_value = [x]\n",
    "            # The process will be repeated a two hundred times (1 second stimulus)\n",
    "            for xi_s in stimulus:\n",
    "                for i in range(duration_frames):\n",
    "                    xi_i = np.random.randn(1)\n",
    "                    # Solved differential diffusion equation:\n",
    "                    x = x -(dt/tau)*(-mu-alfa*x*2+4*x**3)+np.sqrt(dt/tau)*(sigma_i*xi_i+sigma_s*xi_s)\n",
    "                    # All x will be stored in the deccision value list:\n",
    "                    decision_value.append(x)\n",
    "            decision_value_list.append(decision_value)\n",
    "    return decision_value_list, stimulus_list"
   ]
  },
  {
   "cell_type": "code",
   "execution_count": 74,
   "metadata": {},
   "outputs": [],
   "source": [
    "def accuracy(decision_value_list,mu):\n",
    "    error_list = []\n",
    "    for decision_value in decision_value_list:\n",
    "        right_decision =  decision_value[len(decision_value)-1] >= 0\n",
    "        right_mu = mu >= 0\n",
    "        left_decision = decision_value[len(decision_value)-1] < 0\n",
    "        left_mu = mu < 0\n",
    "        if right_decision == right_mu or left_decision == left_mu:\n",
    "            error_list.append(0)\n",
    "        else:\n",
    "            error_list.append(1)\n",
    "    per_error = 100-(sum(error_list)/len(error_list)*100)\n",
    "    return per_error"
   ]
  },
  {
   "cell_type": "code",
   "execution_count": 90,
   "metadata": {},
   "outputs": [],
   "source": [
    "def kernel(decision_value_list, stimulus_list):\n",
    "    binary_decision = []\n",
    "    for decision_value in decision_value_list:\n",
    "        if decision_value[len(decision_value)-1] >= 0:\n",
    "            binary_decision.append(1)\n",
    "        else:\n",
    "            binary_decision.append(0)\n",
    "    logit_mod = sm.Logit(binary_decision, stimulus_list)\n",
    "    result = logit_mod.fit()\n",
    "    pars =result.params\n",
    "    return pars"
   ]
  },
  {
   "cell_type": "code",
   "execution_count": null,
   "metadata": {},
   "outputs": [],
   "source": [
    "def plot():\n",
    "        plt.plot(np.arange(0,len(variable),1),variable,label = round(labeling,2))           \n",
    "        plt.title(title)\n",
    "        plt.xlabel(xlabel)\n",
    "        positions = [200/8*n for n in range(9)]\n",
    "        labels = [1000/8*n for n in range(9)]\n",
    "        plt.xticks(positions, labels)\n",
    "        plt.ylabel(\"Decision value\")\n",
    "        plt.legend()"
   ]
  }
 ],
 "metadata": {
  "kernelspec": {
   "display_name": "Python 3",
   "language": "python",
   "name": "python3"
  },
  "language_info": {
   "codemirror_mode": {
    "name": "ipython",
    "version": 3
   },
   "file_extension": ".py",
   "mimetype": "text/x-python",
   "name": "python",
   "nbconvert_exporter": "python",
   "pygments_lexer": "ipython3",
   "version": "3.6.5"
  }
 },
 "nbformat": 4,
 "nbformat_minor": 2
}

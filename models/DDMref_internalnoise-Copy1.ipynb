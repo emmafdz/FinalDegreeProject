{
 "cells": [
  {
   "cell_type": "markdown",
   "metadata": {},
   "source": [
    "# Simulating the DDM reflecting model with stimulus duration 50 ms\n",
    "In this document, the perfect integrator model, the drift diffusion absorbing model and the drift diffusion reflecting model will be simulated and the parameters of each one will be changed in order to understand the role of each variable."
   ]
  },
  {
   "cell_type": "code",
   "execution_count": 1,
   "metadata": {},
   "outputs": [],
   "source": [
    "# First, the libraries to be used will be imported:\n",
    "import matplotlib.pyplot as plt\n",
    "import numpy as np\n",
    "from scipy.misc import imshow\n",
    "from PIL import Image\n",
    "import statsmodels.api as sm"
   ]
  },
  {
   "cell_type": "code",
   "execution_count": 2,
   "metadata": {},
   "outputs": [],
   "source": [
    "# Then, the variables that will not change throughout the simulation will be defined:\n",
    "tau = 200 #ms\n",
    "tf = tau/40 #ms"
   ]
  },
  {
   "cell_type": "markdown",
   "metadata": {},
   "source": [
    "## DDM reflecting\n",
    "In the first simulation the mu value will be varied from the start mu value to the final mu value, and the error of each mu value will be computed (for a thousand iterations):"
   ]
  },
  {
   "cell_type": "code",
   "execution_count": 3,
   "metadata": {
    "scrolled": true
   },
   "outputs": [
    {
     "name": "stdout",
     "output_type": "stream",
     "text": [
      "Optimization terminated successfully.\n",
      "         Current function value: 0.693096\n",
      "         Iterations 3\n"
     ]
    },
    {
     "data": {
      "text/plain": [
       "array([-0.02040887])"
      ]
     },
     "execution_count": 3,
     "metadata": {},
     "output_type": "execute_result"
    }
   ],
   "source": [
    "# Defining the values used for this simulation\n",
    "sigma_s = 0.2\n",
    "mu = 0\n",
    "bound = 0.5\n",
    "bound1 = -0.5\n",
    "step = 0.1\n",
    "sigma_i = 0.2\n",
    "# In this error_list, 0 will be stored if the sign of the mu value and the decision making are equal, and 1 will be stored if they are different:\n",
    "error_list = []\n",
    "xi_s = np.random.randn(1)\n",
    "stimulus_list = []\n",
    "counter = 0\n",
    "stimulus = []\n",
    "for i in range(199):\n",
    "    stimulus_list.append(xi_s)\n",
    "    if xi_s > 0:\n",
    "        stimulus.append(1)\n",
    "    else:\n",
    "        stimulus.append(0)\n",
    "    counter += 1\n",
    "    if counter == 10:\n",
    "        xi_s  = np.random.randn(1)\n",
    "        counter = 0\n",
    "\n",
    "Y =[]\n",
    "for z in range(999):\n",
    "    # The starting decision value will be 0:\n",
    "    x = 0\n",
    "    decision_value = []\n",
    "    i = 0\n",
    "    # The process will be repeated two hundred times (1 second stimulus) \n",
    "    for xi_s in stimulus_list:\n",
    "        xi_i = np.random.randn(1)\n",
    "        # Solved differential diffusion equation:\n",
    "        x = x - (tf/tau)*(-mu)+np.sqrt(tf/tau)*(sigma_i*xi_i+sigma_s*xi_s)\n",
    "        # If the bound is exceeded, it will return the value of the bound\n",
    "        if x> 0:\n",
    "            decision_value.append(1)\n",
    "        elif x <= 0:\n",
    "            decision_value.append(0)\n",
    "\n",
    "    Y.append(decision_value)\n",
    "logit_mod = sm.Logit(stimulus, Y[0])\n",
    "result = logit_mod.fit(method='newton')\n",
    "result.params"
   ]
  }
 ],
 "metadata": {
  "kernelspec": {
   "display_name": "Python 3",
   "language": "python",
   "name": "python3"
  },
  "language_info": {
   "codemirror_mode": {
    "name": "ipython",
    "version": 3
   },
   "file_extension": ".py",
   "mimetype": "text/x-python",
   "name": "python",
   "nbconvert_exporter": "python",
   "pygments_lexer": "ipython3",
   "version": "3.6.5"
  }
 },
 "nbformat": 4,
 "nbformat_minor": 2
}

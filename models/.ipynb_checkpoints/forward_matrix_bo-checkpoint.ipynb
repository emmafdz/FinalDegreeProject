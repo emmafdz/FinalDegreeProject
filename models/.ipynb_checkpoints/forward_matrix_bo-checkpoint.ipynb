{
 "cells": [
  {
   "cell_type": "code",
   "execution_count": 1,
   "metadata": {},
   "outputs": [],
   "source": [
    "import model_analysis as fn\n",
    "import model_functions as fn1\n",
    "import matplotlib.pyplot as plt\n",
    "import numpy as np\n",
    "import statsmodels.api as sm\n",
    "from PIL import Image\n",
    "from sklearn.preprocessing import normalize\n",
    "import math\n",
    "from scipy.stats import norm\n",
    "import random"
   ]
  },
  {
   "cell_type": "code",
   "execution_count": 2,
   "metadata": {},
   "outputs": [],
   "source": [
    "stimulus_duration = 1000\n",
    "sigma_i = 0\n",
    "sigma_s = 0\n",
    "tau = 200 #ms\n",
    "dt = tau/40 #ms\n",
    "mu = 0.2\n",
    "stimulus_duration = 1000\n",
    "frames_duration = dt\n",
    "alfa = 1"
   ]
  },
  {
   "cell_type": "code",
   "execution_count": 5,
   "metadata": {},
   "outputs": [
    {
     "name": "stdout",
     "output_type": "stream",
     "text": [
      "[nan nan nan ... nan nan nan]\n"
     ]
    },
    {
     "data": {
      "image/png": "[encoded data removed]",
      "text/plain": [
       "<Figure size 432x288 with 1 Axes>"
      ]
     },
     "metadata": {
      "needs_background": "light"
     },
     "output_type": "display_data"
    }
   ],
   "source": [
    "# The boundary for the forward matrix (since the atractors are approximately at 0.75 and -0.65)\n",
    "L = 1\n",
    "mu = 0.2\n",
    "# Steps of 0.1 will be used\n",
    "forward_matrix = fn.FM1(L,mu,dt,tau,alfa,sigma_i,sigma_s)\n",
    "# Plotting the forward matrix\n",
    "plt.figure()\n",
    "im = Image.fromarray(forward_matrix*2600)\n",
    "\n",
    "plt.title (\"Forward matrix\")\n",
    "plt.xlabel(\"decision value at t\")\n",
    "plt.ylabel(\"probability of decision value at t+1\")\n",
    "positions = [0,200,400,600,800,1000,1200,1400,1600,1800,2000]\n",
    "labels = [-1,-0.8,-0.6,-0.4,-0.2,0,0.2,0.4,0.6,0.8,1]\n",
    "plt.xticks(positions, labels)\n",
    "plt.yticks(positions,labels)\n",
    "plt.imshow(im,aspect = \"auto\")\n",
    "print(np.sum(forward_matrix, axis=0))"
   ]
  },
  {
   "cell_type": "code",
   "execution_count": 8,
   "metadata": {},
   "outputs": [
    {
     "data": {
      "text/plain": [
       "([<matplotlib.axis.XTick at 0x7f0930a3a3a0>,\n",
       "  <matplotlib.axis.XTick at 0x7f0930a3a250>,\n",
       "  <matplotlib.axis.XTick at 0x7f0930acd940>,\n",
       "  <matplotlib.axis.XTick at 0x7f09301ff070>,\n",
       "  <matplotlib.axis.XTick at 0x7f09301ff580>,\n",
       "  <matplotlib.axis.XTick at 0x7f09301ffa90>,\n",
       "  <matplotlib.axis.XTick at 0x7f09301f60d0>,\n",
       "  <matplotlib.axis.XTick at 0x7f09301f3160>,\n",
       "  <matplotlib.axis.XTick at 0x7f09301ff0d0>],\n",
       " [Text(0.0, 0, '0.0'),\n",
       "  Text(25.0, 0, '125.0'),\n",
       "  Text(50.0, 0, '250.0'),\n",
       "  Text(75.0, 0, '375.0'),\n",
       "  Text(100.0, 0, '500.0'),\n",
       "  Text(125.0, 0, '625.0'),\n",
       "  Text(150.0, 0, '750.0'),\n",
       "  Text(175.0, 0, '875.0'),\n",
       "  Text(200.0, 0, '1000.0')])"
      ]
     },
     "execution_count": 8,
     "metadata": {},
     "output_type": "execute_result"
    },
    {
     "data": {
      "image/png": "[encoded data removed]",
      "text/plain": [
       "<Figure size 432x288 with 1 Axes>"
      ]
     },
     "metadata": {
      "needs_background": "light"
     },
     "output_type": "display_data"
    }
   ],
   "source": [
    "# The vector with the first decision value will be created:\n",
    "vector = np.zeros((1,2000))[0]\n",
    "vector[1000] = 1\n",
    "\n",
    "# In this list the different vectors will be stored\n",
    "final = [vector]\n",
    "# Each vector will be multiplied by the forward matrix\n",
    "for i in range(int(stimulus_duration/frames_duration)):\n",
    "    vector = forward_matrix.dot(vector)\n",
    "    final.append(vector)\n",
    "final = np.asarray(final)\n",
    "final = final.transpose()\n",
    "#DW(x_value, dt, tau, mu, sigma_i,  sigma_s, alfa, n_trials, stimulus_duration, frames_duration)\n",
    "trials, stimulus_list =  fn1.DW_data(0, dt, tau, mu, sigma_i,  sigma_s, alfa, 5, stimulus_duration, frames_duration)\n",
    "im = Image.fromarray(final*100000)\n",
    "fig, ax = plt.subplots(1,1)\n",
    "img = ax.imshow(im,aspect = \"auto\")\n",
    "for trial in trials:\n",
    "    trial.pop()\n",
    "    trial_new = []\n",
    "    for i in trial:\n",
    "        trial_new.append((i+L)*(1000))\n",
    "    plt.plot(np.arange(0,len(trial_new),1),trial_new)\n",
    "positions = [0,200,400,600,800,1000,1200,1400,1600,1800]\n",
    "labels = [1,0.8,0.6,0.4,0.2,0,-0.2,-0.4,-0.6,-0.8]\n",
    "plt.yticks(positions, labels)\n",
    "plt.title(\"Decision value over time probability\")\n",
    "plt.xlabel(\"time\")\n",
    "plt.ylabel(\"decision value\")\n",
    "positions = [200/8*n for n in range(9)]\n",
    "labels = [1000/8*n for n in range(9)]\n",
    "plt.xticks(positions, labels)"
   ]
  },
  {
   "cell_type": "code",
   "execution_count": 7,
   "metadata": {},
   "outputs": [
    {
     "name": "stdout",
     "output_type": "stream",
     "text": [
      "[0.3, -0.5, 0.1, 0.6, -0.4, -0.1, 0.7, -0.3, -0.6, 0.1, -0.3, -0.5, 0.1, 0.7, 0.0, -0.2, 0.6, 0.7, 0.0]\n"
     ]
    },
    {
     "ename": "AttributeError",
     "evalue": "module 'model_analysis' has no attribute 'DW'",
     "output_type": "error",
     "traceback": [
      "\u001b[0;31m---------------------------------------------------------------------------\u001b[0m",
      "\u001b[0;31mAttributeError\u001b[0m                            Traceback (most recent call last)",
      "\u001b[0;32m<ipython-input-7-9f1d5c3c4ede>\u001b[0m in \u001b[0;36m<module>\u001b[0;34m\u001b[0m\n\u001b[1;32m     10\u001b[0m     \u001b[0mx\u001b[0m \u001b[0;34m=\u001b[0m \u001b[0;36m0\u001b[0m\u001b[0;34m\u001b[0m\u001b[0;34m\u001b[0m\u001b[0m\n\u001b[1;32m     11\u001b[0m     \u001b[0;32mfor\u001b[0m \u001b[0mmu\u001b[0m \u001b[0;32min\u001b[0m \u001b[0mstimulus_mu\u001b[0m\u001b[0;34m:\u001b[0m\u001b[0;34m\u001b[0m\u001b[0;34m\u001b[0m\u001b[0m\n\u001b[0;32m---> 12\u001b[0;31m         \u001b[0mtrials\u001b[0m\u001b[0;34m,\u001b[0m \u001b[0mstimulus\u001b[0m \u001b[0;34m=\u001b[0m \u001b[0mfn\u001b[0m\u001b[0;34m.\u001b[0m\u001b[0mDW\u001b[0m\u001b[0;34m(\u001b[0m\u001b[0mx\u001b[0m\u001b[0;34m,\u001b[0m \u001b[0mdt\u001b[0m\u001b[0;34m,\u001b[0m \u001b[0mtau\u001b[0m\u001b[0;34m,\u001b[0m \u001b[0mmu\u001b[0m\u001b[0;34m,\u001b[0m \u001b[0msigma_i\u001b[0m\u001b[0;34m,\u001b[0m \u001b[0msigma_s\u001b[0m\u001b[0;34m,\u001b[0m \u001b[0malfa\u001b[0m\u001b[0;34m,\u001b[0m \u001b[0;36m1\u001b[0m\u001b[0;34m,\u001b[0m \u001b[0;36m50\u001b[0m\u001b[0;34m,\u001b[0m \u001b[0mframes_duration\u001b[0m\u001b[0;34m)\u001b[0m\u001b[0;34m\u001b[0m\u001b[0;34m\u001b[0m\u001b[0m\n\u001b[0m\u001b[1;32m     13\u001b[0m         \u001b[0;32mfor\u001b[0m \u001b[0ma\u001b[0m \u001b[0;32min\u001b[0m \u001b[0mtrials\u001b[0m\u001b[0;34m[\u001b[0m\u001b[0;36m0\u001b[0m\u001b[0;34m]\u001b[0m\u001b[0;34m:\u001b[0m\u001b[0;34m\u001b[0m\u001b[0;34m\u001b[0m\u001b[0m\n\u001b[1;32m     14\u001b[0m             \u001b[0mtrial\u001b[0m\u001b[0;34m.\u001b[0m\u001b[0mappend\u001b[0m\u001b[0;34m(\u001b[0m\u001b[0ma\u001b[0m\u001b[0;34m)\u001b[0m\u001b[0;34m\u001b[0m\u001b[0;34m\u001b[0m\u001b[0m\n",
      "\u001b[0;31mAttributeError\u001b[0m: module 'model_analysis' has no attribute 'DW'"
     ]
    }
   ],
   "source": [
    "stimulus_mu = []\n",
    "for i in range(19):\n",
    "    stimulus_mu.append(random.randrange(-8, 8, 1)/10)\n",
    "    #stimulus_mu.append(0.2)\n",
    "print(stimulus_mu)\n",
    "\n",
    "trial_list = []\n",
    "for i in range(5):\n",
    "    trial = []\n",
    "    x = 0\n",
    "    for mu in stimulus_mu:\n",
    "        trials, stimulus = fn.DW(x, dt, tau, mu, sigma_i, sigma_s, alfa, 1, 50, frames_duration)\n",
    "        for a in trials[0]:\n",
    "            trial.append(a)\n",
    "        #trial = trials[0]\n",
    "        x = trials[0][len(trials[0])-1]\n",
    "    trial_list.append(trial)\n",
    "\n",
    "vector = np.zeros((1,2000))[0]\n",
    "vector[1000] = 1\n",
    "final = [vector]\n",
    "for mu in stimulus_mu:\n",
    "    forward_matrix = fn.FM1(L,mu,dt,tau,alfa,sigma_i,sigma_s)\n",
    "    for i in range(len(trials[0])):\n",
    "        vector = forward_matrix.dot(vector)\n",
    "        final.append(vector)\n",
    "final = np.asarray(final)\n",
    "final = final.transpose()\n",
    "im = Image.fromarray(final*1000000)\n",
    "fig, ax = plt.subplots(1,1)\n",
    "img = ax.imshow(im,aspect = \"auto\")\n",
    "for trial in trial_list:\n",
    "    trial_new = []\n",
    "    for i in trial:\n",
    "        trial_new.append((i+L)*(1000))\n",
    "    plt.plot(np.arange(0,len(trial_new),1),trial_new)\n",
    "\n",
    "\n",
    "positions = [0,200,400,600,800,1000,1200,1400,1600,1800]\n",
    "labels = [1,0.8,0.6,0.4,0.2,0,-0.2,-0.4,-0.6,-0.8]\n",
    "plt.yticks(positions, labels)\n",
    "plt.title(\"Decision value over time probability\")\n",
    "plt.xlabel(\"time (ms)\")\n",
    "plt.ylabel(\"decision value\")\n",
    "positions = [200/8*n for n in range(9)]\n",
    "labels = [1000/8*n for n in range(9)]\n",
    "plt.xticks(positions, labels)"
   ]
  },
  {
   "cell_type": "code",
   "execution_count": 6,
   "metadata": {},
   "outputs": [
    {
     "name": "stdout",
     "output_type": "stream",
     "text": [
      "[-0.1, -0.1, 0.0, 0.3, -0.1, 0.0, -0.1, -0.5, 0.3, 0.2, -0.4, 0.3, -0.3, 0.3, 0.4, -0.2, -0.4, 0.2, 0.1, -0.2]\n",
      "1000\n"
     ]
    },
    {
     "name": "stderr",
     "output_type": "stream",
     "text": [
      "/home/emma/anaconda3/lib/python3.6/site-packages/scipy/stats/_distn_infrastructure.py:1735: RuntimeWarning: divide by zero encountered in true_divide\n",
      "  x = np.asarray((x - loc)/scale, dtype=dtyp)\n"
     ]
    },
    {
     "data": {
      "text/plain": [
       "Text(0,0.5,'Probability')"
      ]
     },
     "execution_count": 6,
     "metadata": {},
     "output_type": "execute_result"
    },
    {
     "data": {
      "image/png": "[encoded data removed]",
      "text/plain": [
       "<Figure size 432x288 with 1 Axes>"
      ]
     },
     "metadata": {},
     "output_type": "display_data"
    }
   ],
   "source": [
    "stimulus_mu = []\n",
    "for i in range(20):\n",
    "    stimulus_mu.append(random.randrange(-5, 5, 1)/10)\n",
    "    #stimulus_mu.append(0.2)\n",
    "print(stimulus_mu)\n",
    "\n",
    "trial_list = []\n",
    "for i in range(1000):\n",
    "    trial = []\n",
    "    x = 0\n",
    "    for mu in stimulus_mu:\n",
    "        trials, stimulus = fn.DW(x, dt, tau, mu, sigma_i, sigma_s, alfa, 1, 50, frames_duration)\n",
    "        for a in trials[0]:\n",
    "            trial.append(a)\n",
    "        x = trials[0][len(trials[0])-1]\n",
    "    trial_list.append(trial)\n",
    "x_list = [(trial[80]+L)*1000 for trial in trial_list]\n",
    "x_list = np.sort(x_list)\n",
    "hist, base = np.histogram(x_list,bins = 200,range=(0,2000))\n",
    "print(len(x_list))\n",
    "base = [base[i] for i in range(len(base)-1)]\n",
    "plt.plot(base,hist/10,label=\"simulation\")\n",
    "#plt.plot(np.arange(0,len(x_list),1),x_list,label=\"simulation\")\n",
    "# mean = np.mean(x_list)\n",
    "# stdr_dev = np.std(x_list)\n",
    "# print(mean,stdr_dev)\n",
    "# limits = np.linspace(-L,L,2000)\n",
    "# cumulative = norm.pdf(limits, loc = mean, scale = stdr_dev)\n",
    "# plt.plot(np.arange(0,len(cumulative)),cumulative,label=\"simulations\")\n",
    "\n",
    "x = 0\n",
    "\n",
    "vector = np.zeros((1,2000))[0]\n",
    "vector[1000] = 1\n",
    "final = [vector]\n",
    "for mu in stimulus_mu:\n",
    "    forward_matrix = fn.FM1(L,mu,dt,tau,alfa,sigma_i,sigma_s)\n",
    "    for i in range(len(trials[0])):\n",
    "        vector = forward_matrix.dot(vector)\n",
    "        final.append(vector)\n",
    "final = np.asarray(final)\n",
    "final = final.transpose()\n",
    "x_list = [final[i][80]*1000 for i in range(len(final))]\n",
    "plt.plot(np.arange(0,len(x_list),1),x_list,label=\"forward matrix\")\n",
    "# x_list = np.sort(x_list)\n",
    "# mean = np.mean(x_list)\n",
    "# stdr_dev = np.std(x_list)\n",
    "# print(mean,stdr_dev)\n",
    "# limits = np.linspace(-L,L,6000)\n",
    "# cumulative = norm.pdf(limits, loc = mean, scale = stdr_dev)\n",
    "# plt.plot(np.arange(0,len(cumulative)),cumulative,label = \"forward\")\n",
    "plt.legend()\n",
    "positions = [0,200,400,600,800,1000,1200,1400,1600,1800]\n",
    "labels = [1,0.8,0.6,0.4,0.2,0,-0.2,-0.4,-0.6,-0.8]\n",
    "plt.xticks(positions, labels)\n",
    "plt.title(\"Probability of decision value\")\n",
    "plt.xlabel(\"Decision value\")\n",
    "plt.ylabel(\"Probability\")"
   ]
  },
  {
   "cell_type": "code",
   "execution_count": 7,
   "metadata": {},
   "outputs": [
    {
     "name": "stdout",
     "output_type": "stream",
     "text": [
      "[[0.0, -0.1, 0.0, -0.4, -0.4, -0.5, 0.2, -0.3, -0.3, 0.3, -0.1, -0.4, 0.0, -0.5, 0.0, 0.2, 0.0, -0.2, 0.0, -0.4], [-0.3, -0.2, 0.1, -0.3, 0.2, 0.2, 0.1, 0.3, -0.2, 0.2, -0.3, -0.1, -0.1, -0.2, 0.1, -0.4, 0.2, -0.5, -0.5, -0.3], [0.2, -0.4, -0.3, 0.2, 0.0, -0.2, 0.1, 0.3, -0.3, -0.5, -0.3, 0.4, 0.1, -0.4, -0.3, -0.3, 0.1, 0.2, -0.2, -0.1], [0.1, -0.2, 0.2, 0.3, -0.4, -0.4, -0.1, 0.1, -0.2, 0.3, -0.3, -0.4, -0.2, 0.4, -0.1, 0.3, 0.4, 0.3, -0.1, 0.1], [-0.5, 0.1, 0.3, 0.3, -0.5, 0.4, 0.0, 0.3, 0.2, -0.5, -0.4, 0.3, -0.4, -0.2, -0.4, -0.2, 0.3, -0.4, 0.4, -0.1], [-0.5, -0.2, 0.1, -0.1, -0.3, -0.4, -0.5, -0.2, 0.4, -0.3, -0.4, -0.3, -0.4, -0.2, 0.2, -0.3, -0.5, -0.2, -0.1, -0.3], [0.0, -0.3, -0.4, 0.1, -0.4, -0.3, -0.3, -0.3, 0.3, 0.0, -0.1, -0.4, 0.0, -0.5, 0.1, -0.5, -0.4, 0.4, -0.5, 0.4], [0.3, -0.2, 0.0, -0.4, 0.3, 0.4, -0.1, -0.2, 0.0, -0.1, 0.3, -0.4, 0.4, 0.3, 0.0, 0.4, 0.2, -0.2, -0.2, -0.3], [-0.2, -0.3, -0.1, 0.4, 0.0, 0.2, 0.3, 0.1, -0.5, 0.1, -0.2, -0.2, 0.3, -0.5, -0.2, -0.3, 0.2, 0.4, 0.2, 0.3], [0.2, -0.2, -0.5, -0.5, 0.2, -0.5, 0.4, 0.2, -0.2, -0.4, -0.3, 0.3, -0.5, -0.2, -0.2, -0.5, -0.1, 0.4, -0.1, 0.0], [0.3, -0.3, 0.4, -0.3, -0.1, -0.2, -0.1, -0.3, 0.1, -0.1, 0.0, 0.1, 0.1, 0.0, 0.4, 0.2, -0.1, -0.1, 0.4, 0.3], [0.4, -0.2, 0.1, -0.2, 0.4, 0.0, -0.4, 0.3, -0.4, -0.4, 0.3, 0.2, 0.2, 0.1, 0.0, 0.1, 0.0, -0.3, 0.2, 0.0], [0.2, -0.1, 0.4, 0.0, -0.4, -0.4, -0.4, 0.2, -0.5, 0.1, -0.4, 0.0, 0.3, 0.2, 0.0, 0.3, 0.1, -0.4, 0.1, 0.1], [0.0, -0.4, -0.3, -0.4, -0.2, -0.4, 0.3, -0.5, -0.2, -0.3, 0.0, 0.2, 0.1, 0.3, 0.1, 0.1, -0.2, -0.4, 0.0, 0.3], [0.0, 0.1, 0.3, 0.3, 0.3, 0.2, -0.2, 0.1, -0.5, 0.3, -0.2, -0.4, 0.4, 0.3, -0.4, -0.2, 0.1, 0.1, 0.2, -0.2]]\n"
     ]
    },
    {
     "name": "stderr",
     "output_type": "stream",
     "text": [
      "/home/emma/anaconda3/lib/python3.6/site-packages/scipy/stats/_distn_infrastructure.py:1735: RuntimeWarning: divide by zero encountered in true_divide\n",
      "  x = np.asarray((x - loc)/scale, dtype=dtyp)\n"
     ]
    },
    {
     "data": {
      "image/png": "[encoded data removed]",
      "text/plain": [
       "<Figure size 432x288 with 1 Axes>"
      ]
     },
     "metadata": {},
     "output_type": "display_data"
    }
   ],
   "source": [
    "stimulus_mu_list = []\n",
    "for a in range(15):\n",
    "    stimulus_mu = []\n",
    "    for i in range(20):\n",
    "        stimulus_mu.append(random.randrange(-5, 5, 1)/10)\n",
    "    stimulus_mu_list.append(stimulus_mu)\n",
    "print(stimulus_mu_list)\n",
    "prob_simulation = []\n",
    "prob_fm = []\n",
    "for stimulus_mu in stimulus_mu_list:\n",
    "    x_list = []\n",
    "    for i in range(1000):\n",
    "        x = 0\n",
    "        for mu in stimulus_mu:\n",
    "            trials, stimulus = fn.DW(x, dt, tau, mu, sigma_i, sigma_s, alfa, 1, 50, frames_duration)\n",
    "            x = trials[0][len(trials[0])-1]\n",
    "        x_list.append((x+L)*1000)\n",
    "    x_list = np.sort(x_list)\n",
    "    hist, base = np.histogram(x_list,bins = 200,range=(0,2000))\n",
    "    prob_simulation.append(sum(hist[int(len(hist)//2):])/1000)\n",
    "\n",
    "\n",
    "    x = 0\n",
    "\n",
    "    vector = np.zeros((1,2000))[0]\n",
    "    vector[1000] = 1\n",
    "    final = [vector]\n",
    "    for mu in stimulus_mu:\n",
    "        forward_matrix = fn.FM1(L,mu,dt,tau,alfa,sigma_i,sigma_s)\n",
    "        for i in range(len(trials[0])):\n",
    "            vector = forward_matrix.dot(vector)\n",
    "            final.append(vector)\n",
    "    final = np.asarray(final)\n",
    "    final = final.transpose()\n",
    "    x_list = [final[i][len(final[0])-1]*2000 for i in range(len(final))]\n",
    "    prob_fm.append(sum(x_list[int(len(x_list)//2):])/2000)\n",
    "\n",
    "\n",
    "for i in range(len(prob_simulation)):\n",
    "    plt.plot([prob_simulation[i]], [prob_fm[i]], marker='o', markersize=3, color=\"red\")\n",
    "plt.axis([0,1,0,1])\n",
    "plt.xlabel(\"Probability of Right Choice Simulation\")\n",
    "plt.ylabel(\"Probability of Right Choice Forward Matrix\")\n",
    "xpoints = ypoints = np.arange(0,1.1,0.1)\n",
    "#plt.plot(xpoints,ypoints,\"--\")"
   ]
  }
 ],
 "metadata": {
  "kernelspec": {
   "display_name": "Python 3",
   "language": "python",
   "name": "python3"
  },
  "language_info": {
   "codemirror_mode": {
    "name": "ipython",
    "version": 3
   },
   "file_extension": ".py",
   "mimetype": "text/x-python",
   "name": "python",
   "nbconvert_exporter": "python",
   "pygments_lexer": "ipython3",
   "version": "3.8.5"
  }
 },
 "nbformat": 4,
 "nbformat_minor": 2
}

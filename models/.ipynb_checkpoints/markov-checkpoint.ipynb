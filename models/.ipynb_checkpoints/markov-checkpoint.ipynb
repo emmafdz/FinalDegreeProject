{
 "cells": [
  {
   "cell_type": "code",
   "execution_count": 75,
   "metadata": {},
   "outputs": [],
   "source": [
    "import numpy as np\n",
    "from PIL import Image\n",
    "%matplotlib inline \n",
    "import matplotlib.pyplot as plt\n",
    "from pylab import ylabel"
   ]
  },
  {
   "cell_type": "code",
   "execution_count": 68,
   "metadata": {},
   "outputs": [
    {
     "name": "stdout",
     "output_type": "stream",
     "text": [
      "Possible food: ['grapes', 'lettuce', 'cheese', 'lettuce', 'grapes', 'lettuce']\n",
      "End food after 5 days: lettuce\n"
     ]
    },
    {
     "data": {
      "text/plain": [
       "['grapes', 'lettuce', 'cheese', 'lettuce', 'grapes', 'lettuce']"
      ]
     },
     "execution_count": 68,
     "metadata": {},
     "output_type": "execute_result"
    }
   ],
   "source": [
    "food = [\"grapes\",\"cheese\",\"lettuce\"]\n",
    "\n",
    "transitionName = [[\"GG\",\"GC\",\"GL\"],[\"CG\",\"CC\",\"CL\"],[\"LG\",\"LC\",\"LL\"]]\n",
    "\n",
    "# Probabilities matrix (transition matrix)\n",
    "transitionMatrix = [[0.1,0.4,0.5],[0.5,0,0.5],[0.4,0.6,0]]\n",
    "                    \n",
    "# A function that implements the Markov model to forecast the state/mood.\n",
    "def diet(days,food_day):\n",
    "    # Shall store the sequence of states taken. So, this only has the starting state for now.\n",
    "    diet_list = [food_day]\n",
    "    i = 0\n",
    "    while i != days:\n",
    "        if food_day == \"grapes\":\n",
    "            change = np.random.choice(transitionName[0],replace=True,p=transitionMatrix[0])\n",
    "            if change == \"GG\":\n",
    "                diet_list.append(food_day)\n",
    "                pass\n",
    "            elif change == \"GC\":\n",
    "                food_day = \"cheese\"\n",
    "                diet_list.append(food_day)\n",
    "            else:\n",
    "                food_day = \"lettuce\"\n",
    "                diet_list.append(food_day)\n",
    "        elif food_day == \"cheese\":\n",
    "            change = np.random.choice(transitionName[1],replace=True,p=transitionMatrix[1])\n",
    "            if change == \"CC\":\n",
    "                diet_list.append(food_day)\n",
    "                pass\n",
    "            elif change == \"CL\":\n",
    "                food_day = \"lettuce\"\n",
    "                diet_list.append(food_day)\n",
    "            else:\n",
    "                food_day = \"grapes\"\n",
    "                diet_list.append(food_day)\n",
    "        elif food_day == \"lettuce\":\n",
    "            change = np.random.choice(transitionName[2],replace=True,p=transitionMatrix[2])\n",
    "            if change == \"LL\":\n",
    "                diet_list.append(food_day)\n",
    "                pass\n",
    "            elif change == \"LC\":\n",
    "                food_day = \"cheese\"\n",
    "                diet_list.append(food_day)\n",
    "            else:\n",
    "                food_day = \"grapes\"\n",
    "                diet_list.append(food_day)\n",
    "        i += 1  \n",
    "    print(\"Possible food: \" + str(diet_list))\n",
    "    print(\"End food after \"+ str(days) + \" days: \" + food_day)\n",
    "    return(diet_list)\n",
    "diet(5,\"grapes\")"
   ]
  },
  {
   "cell_type": "code",
   "execution_count": 28,
   "metadata": {},
   "outputs": [
    {
     "data": {
      "text/plain": [
       "[Text(0,0,'grapes'), Text(0,0,'cheese'), Text(0,0,'lettuce')]"
      ]
     },
     "execution_count": 28,
     "metadata": {},
     "output_type": "execute_result"
    },
    {
     "data": {
      "text/plain": [
       "<Figure size 432x288 with 0 Axes>"
      ]
     },
     "metadata": {},
     "output_type": "display_data"
    },
    {
     "data": {
      "image/png": "[encoded data removed]",
      "text/plain": [
       "<Figure size 432x288 with 1 Axes>"
      ]
     },
     "metadata": {},
     "output_type": "display_data"
    }
   ],
   "source": [
    "transitionMatrix = [[0.1,0.4,0.5],[0.5,0,0.5],[0.4,0.6,0]]\n",
    "transitionMatrix = np.asarray(transitionMatrix)\n",
    "                    \n",
    "plt.figure()\n",
    "im = Image.fromarray(transitionMatrix*400)\n",
    "#plt.imshow(im,aspect = \"auto\")\n",
    "#plt.xticks(food)\n",
    "\n",
    "fig, ax = plt.subplots(1,1)\n",
    "\n",
    "img = ax.imshow(im,aspect = \"auto\")\n",
    "\n",
    "ax.set_xticks([0,1,2])\n",
    "ax.set_xticklabels(food)\n",
    "\n",
    "ax.set_yticks([0,1,2])\n",
    "ax.set_yticklabels(food)"
   ]
  },
  {
   "cell_type": "code",
   "execution_count": 62,
   "metadata": {},
   "outputs": [
    {
     "data": {
      "text/plain": [
       "Text(0.5,0,'days')"
      ]
     },
     "execution_count": 62,
     "metadata": {},
     "output_type": "execute_result"
    },
    {
     "data": {
      "image/png": "[encoded data removed]",
      "text/plain": [
       "<Figure size 432x288 with 1 Axes>"
      ]
     },
     "metadata": {},
     "output_type": "display_data"
    }
   ],
   "source": [
    "days = 10\n",
    "vector = [1,0,0]\n",
    "final = [vector]\n",
    "transitionMatrix = [[0.1,0.4,0.5],[0.5,0,0.5],[0.4,0.6,0]]\n",
    "transitionMatrix = np.asarray(transitionMatrix)\n",
    "for i in range(days):\n",
    "    vector = transitionMatrix.dot(vector)\n",
    "    final.append(vector)\n",
    "final = np.asarray(final)\n",
    "final = final.transpose()e\n",
    "\n",
    "im = Image.fromarray(final*400)\n",
    "#plt.imshow(im,aspect = \"auto\")\n",
    "#plt.xticks(food)\n",
    "\n",
    "fig, ax = plt.subplots(1,1)\n",
    "\n",
    "img = ax.imshow(im,aspect = \"auto\")\n",
    "\n",
    "ax.set_yticks([0,1,2])\n",
    "ax.set_yticklabels(food)\n",
    "plt.xlabel('days')"
   ]
  },
  {
   "cell_type": "code",
   "execution_count": 104,
   "metadata": {},
   "outputs": [
    {
     "name": "stdout",
     "output_type": "stream",
     "text": [
      "[[0.33311267 0.33300781 0.33387952]]\n"
     ]
    },
    {
     "data": {
      "text/plain": [
       "[Text(0,0,'grapes'), Text(0,0,'cheese'), Text(0,0,'lettuce')]"
      ]
     },
     "execution_count": 104,
     "metadata": {},
     "output_type": "execute_result"
    },
    {
     "data": {
      "image/png": "[encoded data removed]",
      "text/plain": [
       "<Figure size 432x288 with 1 Axes>"
      ]
     },
     "metadata": {},
     "output_type": "display_data"
    }
   ],
   "source": [
    "days = 10\n",
    "vector = [1,0,0]\n",
    "final = [vector]\n",
    "transitionMatrix = [[0.1,0.4,0.5],[0.5,0,0.5],[0.4,0.6,0]]\n",
    "transitionMatrix = np.asarray(transitionMatrix)\n",
    "transitionMatrix_power = np.linalg.matrix_power(transitionMatrix, days)\n",
    "final = transitionMatrix_power.dot(vector)\n",
    "final = [[i] for i in final]\n",
    "final = np.asarray(final)\n",
    "final = final.transpose()\n",
    "\n",
    "print(final)\n",
    "\n",
    "\n",
    "im = Image.fromarray(final*400)\n",
    "#plt.xticks(food)\n",
    "\n",
    "fig, ax = plt.subplots(1,1)\n",
    "\n",
    "img = ax.imshow(im,aspect = \"auto\")\n",
    "\n",
    "ax.set_yticks([-0.3,0,0.3])\n",
    "ax.set_yticklabels(food)\n",
    "#plt.xlabel('days')"
   ]
  }
 ],
 "metadata": {
  "kernelspec": {
   "display_name": "Python 3",
   "language": "python",
   "name": "python3"
  },
  "language_info": {
   "codemirror_mode": {
    "name": "ipython",
    "version": 3
   },
   "file_extension": ".py",
   "mimetype": "text/x-python",
   "name": "python",
   "nbconvert_exporter": "python",
   "pygments_lexer": "ipython3",
   "version": "3.8.5"
  }
 },
 "nbformat": 4,
 "nbformat_minor": 2
}

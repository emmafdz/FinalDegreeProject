{
 "cells": [
  {
   "cell_type": "code",
   "execution_count": 1,
   "metadata": {},
   "outputs": [],
   "source": [
    "# First, the libraries to be used will be imported:\n",
    "import matplotlib.pyplot as plt\n",
    "import numpy as np\n"
   ]
  },
  {
   "cell_type": "code",
   "execution_count": 2,
   "metadata": {},
   "outputs": [],
   "source": [
    "# Then, the variables that will not change throughout the simulation will be defined:\n",
    "sigma_i = 0 # I consider that there is no internal noise\n",
    "xi_i = 0\n",
    "tau = 200 #ms\n",
    "tf = tau/40 #ms"
   ]
  },
  {
   "cell_type": "markdown",
   "metadata": {},
   "source": [
    "## Perfect Integrator\n"
   ]
  },
  {
   "cell_type": "code",
   "execution_count": 18,
   "metadata": {},
   "outputs": [],
   "source": [
    "# Defining the values used for this simulation\n",
    "mu = 0.15\n",
    "start_sigma_s = 0\n",
    "final_sigma_s = 1\n",
    "step = 0.1\n",
    "per_error_list = []\n",
    "stimulus_values = np.random.randn(1000,400)\n",
    "alfa = 1\n",
    "# The mu value will be varied from the start mu value to the final mu value, separated by the step value:\n",
    "for sigma_s in np.arange(start_sigma_s, final_sigma_s, step):\n",
    "    error_list = []\n",
    "    for stimulus in stimulus_values:\n",
    "        # The starting decision value will be 0:\n",
    "        x = 0\n",
    "        decision_value = [x]\n",
    "        # The process will be repeated a two hundred times (1 second stimulus)\n",
    "        for xi_s in stimulus:\n",
    "            # Solved differential diffusion equation:\n",
    "            x = x - (tf/tau)*(-mu-alfa*x*2+4*x**3)+np.sqrt(tf/tau)*(sigma_i*xi_i+sigma_s*xi_s)\n",
    "            # All x will be stored in the deccision value list:\n",
    "            decision_value.append(x)\n",
    "\n",
    "        # The boolean value of  the decision veing positive or negative will be calculated: \n",
    "        positive_decision = decision_value[len(decision_value)-1]>=0\n",
    "        negative_decision = decision_value[len(decision_value)-1]<0\n",
    "        positive_mu = mu>=0\n",
    "        negative_mu = mu<0\n",
    "\n",
    "        # If the last decision value and the mu have the same sign, there will be no error (0 will be stored), if they are different there will be error (1 will be stored)\n",
    "        if positive_decision == positive_mu or negative_decision  == negative_mu:\n",
    "            error_list.append(0)\n",
    "        else:\n",
    "            error_list.append(1)\n",
    "\n",
    "    # Printing the error for each mu\n",
    "    per_error = sum(error_list)/len(error_list)*100\n",
    "    per_error_list.append(100-per_error)"
   ]
  },
  {
   "cell_type": "code",
   "execution_count": 20,
   "metadata": {},
   "outputs": [
    {
     "data": {
      "text/plain": [
       "Text(0.5,1,'Accuracy over sigma_s value for the DW perfect integrator model')"
      ]
     },
     "execution_count": 20,
     "metadata": {},
     "output_type": "execute_result"
    },
    {
     "data": {
      "image/png": "[encoded data removed]",
      "text/plain": [
       "<Figure size 432x288 with 1 Axes>"
      ]
     },
     "metadata": {},
     "output_type": "display_data"
    }
   ],
   "source": [
    "plt.plot(np.arange(start_sigma_s, final_sigma_s, step), per_error_list)\n",
    "#plt.plot(np.arange(start_sigma_s, final_sigma_s, step),per_error_list,\"ro\")\n",
    "plt.ylabel(\"Accuracy (%)\")\n",
    "plt.xlabel(\"sigma_s value\")\n",
    "plt.title(\"Accuracy over sigma_s value for the DW perfect integrator model\")"
   ]
  }
 ],
 "metadata": {
  "kernelspec": {
   "display_name": "Python 3",
   "language": "python",
   "name": "python3"
  },
  "language_info": {
   "codemirror_mode": {
    "name": "ipython",
    "version": 3
   },
   "file_extension": ".py",
   "mimetype": "text/x-python",
   "name": "python",
   "nbconvert_exporter": "python",
   "pygments_lexer": "ipython3",
   "version": "3.6.5"
  }
 },
 "nbformat": 4,
 "nbformat_minor": 2
}

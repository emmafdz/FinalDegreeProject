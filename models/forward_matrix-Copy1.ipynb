{
 "cells": [
  {
   "cell_type": "code",
   "execution_count": 5,
   "metadata": {},
   "outputs": [],
   "source": [
    "import model_functions as fn\n",
    "import matplotlib.pyplot as plt\n",
    "import numpy as np\n",
    "import statsmodels.api as sm\n",
    "from PIL import Image\n",
    "from sklearn.preprocessing import normalize\n",
    "import math"
   ]
  },
  {
   "cell_type": "code",
   "execution_count": 2,
   "metadata": {},
   "outputs": [],
   "source": [
    "stimulus_duration = 1000\n",
    "sigma_i = 0.25\n",
    "sigma_s = 0.25\n",
    "tau = 200 #ms\n",
    "dt = tau/40 #ms\n",
    "mu = 0.2\n",
    "stimulus_duration = 1000\n",
    "frames_duration = dt\n",
    "alfa = 1"
   ]
  },
  {
   "cell_type": "code",
   "execution_count": 3,
   "metadata": {},
   "outputs": [
    {
     "data": {
      "text/plain": [
       "<matplotlib.image.AxesImage at 0x7fdc12b426a0>"
      ]
     },
     "execution_count": 3,
     "metadata": {},
     "output_type": "execute_result"
    },
    {
     "data": {
      "image/png": "[encoded data removed]",
      "text/plain": [
       "<Figure size 432x288 with 1 Axes>"
      ]
     },
     "metadata": {},
     "output_type": "display_data"
    }
   ],
   "source": [
    "# The boundary for the forward matrix (since the atractors are approximately at 0.75 and -0.65)\n",
    "L = 1\n",
    "# Steps of 0.1 will be used\n",
    "forward_matrix = np.zeros((int(10*(L+L)+1),int(10*(L+L))+1))\n",
    "\n",
    "y = 0\n",
    "for x in np.arange(-L,L+0.1,0.1): \n",
    "    # The mean of the distribution will be computed\n",
    "    mean = x-(dt/tau)*(-mu-alfa*x*2+4*x**3)\n",
    "    # The standard deviation of the distribution will be computed\n",
    "    stdr_dev = np.sqrt(dt/tau)*np.sqrt(sigma_i**2+sigma_s**2)\n",
    "    # Normal distribution with mean and standard deviation set (1000 samples)\n",
    "    x_computed = np.random.normal(mean, stdr_dev, 1000)\n",
    "    \n",
    "    # For the limits of the matrix if the decision variable is out of the bounds it will be set inside the bounds.\n",
    "    x_list = []\n",
    "    for item in x_computed:\n",
    "        if item >= L:\n",
    "            x_list.append(L)\n",
    "        elif item <= -L:\n",
    "            x_list.append(-L)\n",
    "        else:\n",
    "            x_list.append(item)\n",
    "    \n",
    "    # The distribution will be divided into 100 bins\n",
    "    values, base = np.histogram(x_list, bins=100)\n",
    "    # The cumulative distribution will be computed\n",
    "    cumulative = np.cumsum(values)\n",
    "    \n",
    "    # The separation numbers of the bins will be truncated to only one decimal\n",
    "    base_t = []\n",
    "    for number in base:\n",
    "        stepper = 10.0\n",
    "        base_t.append(math.trunc(stepper*number) / stepper)\n",
    "    index = 0\n",
    "    \n",
    "    # The cumulative distribution will be divided into bins separated by 0.1 steps and stored into the matrix\n",
    "    for i in range(len(base_t)-1):\n",
    "        if base_t[i+1] != base_t[i]:\n",
    "            if index == 0:\n",
    "                forward_matrix[int(base_t[i]*10+L*10)][y] = cumulative[i]\n",
    "            else:\n",
    "                forward_matrix[int(base_t[i]*10+L*10)][y] = cumulative[i]-cumulative[index]\n",
    "            index = i\n",
    "    y += 1 \n",
    "\n",
    "# The forward matrix will be normalized\n",
    "#forward_matrix = normalize(forward_matrix, axis=0, norm='l1')\n",
    "\n",
    "# Plotting the forward matrix\n",
    "plt.figure()\n",
    "im = Image.fromarray(forward_matrix)\n",
    "\n",
    "plt.title (\"Forward matrix\")\n",
    "plt.xlabel(\"decision value at t\")\n",
    "plt.ylabel(\"probability of decision value at t+1\")\n",
    "positions = [0,2,4,6,8,10,12,14,16,18,20]\n",
    "labels = [-1,-0.8,-0.6,-0.4,-0.2,0,0.2,0.4,0.6,0.8,1]\n",
    "plt.xticks(positions, labels)\n",
    "plt.yticks(positions,labels)\n",
    "plt.imshow(im,aspect = \"auto\")\n"
   ]
  },
  {
   "cell_type": "code",
   "execution_count": 4,
   "metadata": {},
   "outputs": [
    {
     "data": {
      "text/plain": [
       "<matplotlib.image.AxesImage at 0x7fdc12aa2e48>"
      ]
     },
     "execution_count": 4,
     "metadata": {},
     "output_type": "execute_result"
    },
    {
     "data": {
      "image/png": "[encoded data removed]",
      "text/plain": [
       "<Figure size 432x288 with 1 Axes>"
      ]
     },
     "metadata": {},
     "output_type": "display_data"
    }
   ],
   "source": [
    "# The boundary for the forward matrix (since the atractors are approximately at 0.75 and -0.65)\n",
    "L = 1\n",
    "# Steps of 0.1 will be used\n",
    "forward_matrix = np.zeros((int(10*(L+L)+1),int(10*(L+L))+1))\n",
    "\n",
    "y = 0\n",
    "for x in np.arange(-L,L+0.1,0.1): \n",
    "    # The mean of the distribution will be computed\n",
    "    mean = x-(dt/tau)*(-mu-alfa*x*2+4*x**3)\n",
    "    # The standard deviation of the distribution will be computed\n",
    "    stdr_dev = np.sqrt(dt/tau)*np.sqrt(sigma_i**2+sigma_s**2)\n",
    "    \n",
    "    # Change it to norm.cdf\n",
    "    # Normal distribution with mean and standard deviation set (1000 samples)\n",
    "    x_computed = np.random.normal(mean, stdr_dev, 1000)\n",
    "\n",
    "    # For the limits of the matrix if the decision variable is out of the bounds it will be set inside the bounds.\n",
    "    x_list = []\n",
    "    for item in x_computed:\n",
    "        if item >= L:\n",
    "            x_list.append(L)\n",
    "        elif item <= -L:\n",
    "            x_list.append(-L)\n",
    "        else:\n",
    "            x_list.append(item)\n",
    "\n",
    "    # The distribution will be divided into 100 bins\n",
    "    values, base = np.histogram(x_list, bins=100)\n",
    "    # The cumulative distribution will be computed\n",
    "    cumulative = np.cumsum(values)\n",
    "\n",
    "    # The separation numbers of the bins will be truncated to only one decimal\n",
    "    base_t = []\n",
    "    for number in base:\n",
    "        stepper = 10.0\n",
    "        base_t.append(math.trunc(stepper*number) / stepper)\n",
    "    index = 0\n",
    "\n",
    "    # The cumulative distribution will be divided into bins separated by 0.1 steps and stored into the matrix\n",
    "    for i in range(len(base_t)-1):\n",
    "        if base_t[i+1] != base_t[i]:\n",
    "            if index == 0:\n",
    "                forward_matrix[int(base_t[i]*10+L*10)][y] = cumulative[i]\n",
    "            else:\n",
    "                forward_matrix[int(base_t[i]*10+L*10)][y] = cumulative[i]-cumulative[index]\n",
    "            index = i\n",
    "    y += 1 \n",
    "\n",
    "# Not necessary\n",
    "# The forward matrix will be normalized\n",
    "#forward_matrix = normalize(forward_matrix, axis=0, norm='l1')\n",
    "\n",
    "# Plotting the forward matrix\n",
    "plt.figure()\n",
    "im = Image.fromarray(forward_matrix*256)\n",
    "\n",
    "plt.title (\"Forward matrix\")\n",
    "plt.xlabel(\"decision value at t\")\n",
    "plt.ylabel(\"probability of decision value at t+1\")\n",
    "positions = [0,2,4,6,8,10,12,14,16,18,20]\n",
    "labels = [-1,-0.8,-0.6,-0.4,-0.2,0,0.2,0.4,0.6,0.8,1]\n",
    "plt.xticks(positions, labels)\n",
    "plt.yticks(positions,labels)\n",
    "plt.imshow(im,aspect = \"auto\")"
   ]
  },
  {
   "cell_type": "code",
   "execution_count": 5,
   "metadata": {},
   "outputs": [
    {
     "ename": "ValueError",
     "evalue": "Input contains NaN, infinity or a value too large for dtype('float64').",
     "output_type": "error",
     "traceback": [
      "\u001b[0;31m---------------------------------------------------------------------------\u001b[0m",
      "\u001b[0;31mValueError\u001b[0m                                Traceback (most recent call last)",
      "\u001b[0;32m<ipython-input-5-cf3cf11571a2>\u001b[0m in \u001b[0;36m<module>\u001b[0;34m()\u001b[0m\n\u001b[1;32m     14\u001b[0m \u001b[0mtrials\u001b[0m\u001b[0;34m,\u001b[0m \u001b[0mstimulus_list\u001b[0m \u001b[0;34m=\u001b[0m  \u001b[0mfn\u001b[0m\u001b[0;34m.\u001b[0m\u001b[0mDW\u001b[0m\u001b[0;34m(\u001b[0m\u001b[0;36m0\u001b[0m\u001b[0;34m,\u001b[0m \u001b[0mdt\u001b[0m\u001b[0;34m,\u001b[0m \u001b[0mtau\u001b[0m\u001b[0;34m,\u001b[0m \u001b[0mmu\u001b[0m\u001b[0;34m,\u001b[0m \u001b[0msigma_i\u001b[0m\u001b[0;34m,\u001b[0m  \u001b[0msigma_s\u001b[0m\u001b[0;34m,\u001b[0m \u001b[0malfa\u001b[0m\u001b[0;34m,\u001b[0m \u001b[0;36m5\u001b[0m\u001b[0;34m,\u001b[0m \u001b[0mstimulus_duration\u001b[0m\u001b[0;34m,\u001b[0m \u001b[0mframes_duration\u001b[0m\u001b[0;34m)\u001b[0m\u001b[0;34m\u001b[0m\u001b[0m\n\u001b[1;32m     15\u001b[0m \u001b[0;34m\u001b[0m\u001b[0m\n\u001b[0;32m---> 16\u001b[0;31m \u001b[0mim\u001b[0m \u001b[0;34m=\u001b[0m \u001b[0mImage\u001b[0m\u001b[0;34m.\u001b[0m\u001b[0mfromarray\u001b[0m\u001b[0;34m(\u001b[0m\u001b[0mnormalize\u001b[0m\u001b[0;34m(\u001b[0m\u001b[0mfinal\u001b[0m\u001b[0;34m)\u001b[0m\u001b[0;34m*\u001b[0m\u001b[0;36m2000\u001b[0m\u001b[0;34m)\u001b[0m\u001b[0;34m\u001b[0m\u001b[0m\n\u001b[0m\u001b[1;32m     17\u001b[0m \u001b[0mfig\u001b[0m\u001b[0;34m,\u001b[0m \u001b[0max\u001b[0m \u001b[0;34m=\u001b[0m \u001b[0mplt\u001b[0m\u001b[0;34m.\u001b[0m\u001b[0msubplots\u001b[0m\u001b[0;34m(\u001b[0m\u001b[0;36m1\u001b[0m\u001b[0;34m,\u001b[0m\u001b[0;36m1\u001b[0m\u001b[0;34m)\u001b[0m\u001b[0;34m\u001b[0m\u001b[0m\n\u001b[1;32m     18\u001b[0m \u001b[0mimg\u001b[0m \u001b[0;34m=\u001b[0m \u001b[0max\u001b[0m\u001b[0;34m.\u001b[0m\u001b[0mimshow\u001b[0m\u001b[0;34m(\u001b[0m\u001b[0mim\u001b[0m\u001b[0;34m,\u001b[0m\u001b[0maspect\u001b[0m \u001b[0;34m=\u001b[0m \u001b[0;34m\"auto\"\u001b[0m\u001b[0;34m)\u001b[0m\u001b[0;34m\u001b[0m\u001b[0m\n",
      "\u001b[0;32m~/anaconda3/lib/python3.6/site-packages/sklearn/preprocessing/data.py\u001b[0m in \u001b[0;36mnormalize\u001b[0;34m(X, norm, axis, copy, return_norm)\u001b[0m\n\u001b[1;32m   1410\u001b[0m \u001b[0;34m\u001b[0m\u001b[0m\n\u001b[1;32m   1411\u001b[0m     X = check_array(X, sparse_format, copy=copy,\n\u001b[0;32m-> 1412\u001b[0;31m                     estimator='the normalize function', dtype=FLOAT_DTYPES)\n\u001b[0m\u001b[1;32m   1413\u001b[0m     \u001b[0;32mif\u001b[0m \u001b[0maxis\u001b[0m \u001b[0;34m==\u001b[0m \u001b[0;36m0\u001b[0m\u001b[0;34m:\u001b[0m\u001b[0;34m\u001b[0m\u001b[0m\n\u001b[1;32m   1414\u001b[0m         \u001b[0mX\u001b[0m \u001b[0;34m=\u001b[0m \u001b[0mX\u001b[0m\u001b[0;34m.\u001b[0m\u001b[0mT\u001b[0m\u001b[0;34m\u001b[0m\u001b[0m\n",
      "\u001b[0;32m~/anaconda3/lib/python3.6/site-packages/sklearn/utils/validation.py\u001b[0m in \u001b[0;36mcheck_array\u001b[0;34m(array, accept_sparse, dtype, order, copy, force_all_finite, ensure_2d, allow_nd, ensure_min_samples, ensure_min_features, warn_on_dtype, estimator)\u001b[0m\n\u001b[1;32m    451\u001b[0m                              % (array.ndim, estimator_name))\n\u001b[1;32m    452\u001b[0m         \u001b[0;32mif\u001b[0m \u001b[0mforce_all_finite\u001b[0m\u001b[0;34m:\u001b[0m\u001b[0;34m\u001b[0m\u001b[0m\n\u001b[0;32m--> 453\u001b[0;31m             \u001b[0m_assert_all_finite\u001b[0m\u001b[0;34m(\u001b[0m\u001b[0marray\u001b[0m\u001b[0;34m)\u001b[0m\u001b[0;34m\u001b[0m\u001b[0m\n\u001b[0m\u001b[1;32m    454\u001b[0m \u001b[0;34m\u001b[0m\u001b[0m\n\u001b[1;32m    455\u001b[0m     \u001b[0mshape_repr\u001b[0m \u001b[0;34m=\u001b[0m \u001b[0m_shape_repr\u001b[0m\u001b[0;34m(\u001b[0m\u001b[0marray\u001b[0m\u001b[0;34m.\u001b[0m\u001b[0mshape\u001b[0m\u001b[0;34m)\u001b[0m\u001b[0;34m\u001b[0m\u001b[0m\n",
      "\u001b[0;32m~/anaconda3/lib/python3.6/site-packages/sklearn/utils/validation.py\u001b[0m in \u001b[0;36m_assert_all_finite\u001b[0;34m(X)\u001b[0m\n\u001b[1;32m     42\u001b[0m             and not np.isfinite(X).all()):\n\u001b[1;32m     43\u001b[0m         raise ValueError(\"Input contains NaN, infinity\"\n\u001b[0;32m---> 44\u001b[0;31m                          \" or a value too large for %r.\" % X.dtype)\n\u001b[0m\u001b[1;32m     45\u001b[0m \u001b[0;34m\u001b[0m\u001b[0m\n\u001b[1;32m     46\u001b[0m \u001b[0;34m\u001b[0m\u001b[0m\n",
      "\u001b[0;31mValueError\u001b[0m: Input contains NaN, infinity or a value too large for dtype('float64')."
     ]
    }
   ],
   "source": [
    "# The vector with the first decision value will be created:\n",
    "vector = np.zeros((1,21))[0]\n",
    "vector[10] = 1\n",
    "\n",
    "# In this list the different vectors will be stored\n",
    "final = [vector]\n",
    "# Each vector will be multiplied by the forward matrix\n",
    "for i in range(int(stimulus_duration/frames_duration)):\n",
    "    vector = forward_matrix.dot(vector)\n",
    "    final.append(vector)\n",
    "final = np.asarray(final)\n",
    "final = final.transpose()\n",
    "#DW(x_value, dt, tau, mu, sigma_i,  sigma_s, alfa, n_trials, stimulus_duration, frames_duration)\n",
    "trials, stimulus_list =  fn.DW(0, dt, tau, mu, sigma_i,  sigma_s, alfa, 5, stimulus_duration, frames_duration)\n",
    "\n",
    "im = Image.fromarray(normalize(final)*2000)\n",
    "fig, ax = plt.subplots(1,1)\n",
    "img = ax.imshow(im,aspect = \"auto\")\n",
    "positions = [0,2,4,6,8,10,12,14,16,18,20]\n",
    "labels = [-1,-0.8,-0.6,-0.4,-0.2,0,0.2,0.4,0.6,0.8,1]\n",
    "for trial in trials:\n",
    "    trial.pop()\n",
    "    trial_new = []\n",
    "    for i in trial:\n",
    "        trial_new.append((i+L)*10)\n",
    "    plt.plot(np.arange(0,len(trial_new),1),trial_new)\n",
    "plt.yticks(positions, labels)\n",
    "plt.title(\"Decision value over time probability\")\n",
    "plt.xlabel(\"time\")\n",
    "plt.ylabel(\"decision value\")\n",
    "positions = [200/8*n for n in range(9)]\n",
    "labels = [1000/8*n for n in range(9)]\n",
    "plt.xticks(positions, labels)"
   ]
  }
 ],
 "metadata": {
  "kernelspec": {
   "display_name": "Python 3",
   "language": "python",
   "name": "python3"
  },
  "language_info": {
   "codemirror_mode": {
    "name": "ipython",
    "version": 3
   },
   "file_extension": ".py",
   "mimetype": "text/x-python",
   "name": "python",
   "nbconvert_exporter": "python",
   "pygments_lexer": "ipython3",
   "version": "3.7.0"
  }
 },
 "nbformat": 4,
 "nbformat_minor": 2
}

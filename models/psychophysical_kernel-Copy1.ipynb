{
 "cells": [
  {
   "cell_type": "markdown",
   "metadata": {},
   "source": [
    "# Psychophysical Kernel\n"
   ]
  },
  {
   "cell_type": "code",
   "execution_count": 1,
   "metadata": {},
   "outputs": [],
   "source": [
    "# First, the libraries to be used will be imported:\n",
    "import matplotlib.pyplot as plt\n",
    "import numpy as np\n",
    "import statsmodels.api as sm"
   ]
  },
  {
   "cell_type": "code",
   "execution_count": 2,
   "metadata": {},
   "outputs": [],
   "source": [
    "# Then, the variables that will not change throughout the simulation will be defined:\n",
    "sigma_i = 0 # I consider that there is no internal noise\n",
    "xi_i = 0\n",
    "tau = 200 #ms\n",
    "tf = tau/40 #ms"
   ]
  },
  {
   "cell_type": "markdown",
   "metadata": {},
   "source": [
    "## Perfect Integrator\n"
   ]
  },
  {
   "cell_type": "code",
   "execution_count": 3,
   "metadata": {
    "scrolled": true
   },
   "outputs": [
    {
     "name": "stdout",
     "output_type": "stream",
     "text": [
      "Optimization terminated successfully.\n",
      "         Current function value: 0.057896\n",
      "         Iterations 12\n"
     ]
    },
    {
     "data": {
      "text/plain": [
       "Text(0.5,1,'Psychophysical Kernel Perfect Integrator')"
      ]
     },
     "execution_count": 3,
     "metadata": {},
     "output_type": "execute_result"
    },
    {
     "data": {
      "image/png": "[encoded data removed]",
      "text/plain": [
       "<Figure size 432x288 with 1 Axes>"
      ]
     },
     "metadata": {},
     "output_type": "display_data"
    }
   ],
   "source": [
    "# Defining the values used for this simulation\n",
    "sigma_s = 0.7\n",
    "sigma_i = 0.2\n",
    "mu = 0\n",
    "step = 0.1\n",
    "stimulus_values = []\n",
    "decision_values = []\n",
    "for z in range(999):\n",
    "    # The starting decision value will be 0:\n",
    "    x = 0\n",
    "    decision_value = []\n",
    "    iterations = 9\n",
    "    xi_s = np.random.randn(1)\n",
    "    stimulus = []\n",
    "    \n",
    "    # The process will be repeated a two hundred times (1 second stimulus)\n",
    "    for i in range(199):\n",
    "        # Normal random distribution noise:\n",
    "        iterations += 1\n",
    "        if iterations == 10:\n",
    "            xi_s = np.random.randn(1)\n",
    "            iterations = 0\n",
    "            if xi_s> 0:\n",
    "                stimulus.append(xi_s[0])\n",
    "            else:\n",
    "                stimulus.append(xi_s[0])\n",
    "        xi_i = np.random.randn(1)\n",
    "        # Solved differential diffusion equation:\n",
    "        x = x - (tf/tau)*(-mu)+np.sqrt(tf/tau)*(sigma_i*xi_i+sigma_s*xi_s)\n",
    "        # All x will be stored in the deccision value list:\n",
    "        if x> 0:\n",
    "            decision_value.append(1)\n",
    "        else:\n",
    "            decision_value.append(0)\n",
    "    stimulus_values.append(stimulus)\n",
    "    decision_values.append(decision_value[len(decision_value)-1])\n",
    "logit_mod = sm.Logit(decision_values,stimulus_values)\n",
    "result = logit_mod.fit()\n",
    "pars =result.params\n",
    "plt.plot(np.arange(0,len(pars),1),pars)\n",
    "plt.axis([0,20,0,15])\n",
    "positions = [20/10*n for n in range(11)]\n",
    "labels = [round(200/10*n,1) for n in range(11)]\n",
    "plt.xticks(positions, labels)\n",
    "plt.xlabel(\"time (ms)\")\n",
    "plt.title(\"Psychophysical Kernel Perfect Integrator\")"
   ]
  },
  {
   "cell_type": "markdown",
   "metadata": {},
   "source": [
    "## DDM Absorbing\n"
   ]
  },
  {
   "cell_type": "code",
   "execution_count": 8,
   "metadata": {},
   "outputs": [
    {
     "name": "stdout",
     "output_type": "stream",
     "text": [
      "Optimization terminated successfully.\n",
      "         Current function value: 0.130315\n",
      "         Iterations 10\n"
     ]
    },
    {
     "data": {
      "text/plain": [
       "Text(0.5,1,'Psychophysical Kernel Absorbing DDM')"
      ]
     },
     "execution_count": 8,
     "metadata": {},
     "output_type": "execute_result"
    },
    {
     "data": {
      "image/png": "[encoded data removed]",
      "text/plain": [
       "<Figure size 432x288 with 1 Axes>"
      ]
     },
     "metadata": {},
     "output_type": "display_data"
    }
   ],
   "source": [
    "# Defining the values used for this simulation\n",
    "sigma_s = 0.7\n",
    "sigma_i  = 0.2\n",
    "mu = 0\n",
    "bound = 0.5\n",
    "decision_values = []\n",
    "stimulus_values = np.random.randn(1000,20)\n",
    "for stimulus in stimulus_values:\n",
    "    # The starting decision value will be 0:\n",
    "    x = 0\n",
    "    decision_value = [x]\n",
    "    # Starting with the condition that the bound hasn't been reached\n",
    "    reached_bound = False\n",
    "\n",
    "    # While the bound hasn't been reached, the equation will be performed over time       \n",
    "    while reached_bound == False:\n",
    "        # Normal random distribution noise:\n",
    "        i = 0\n",
    "        for xi_s in stimulus:\n",
    "            for i in range(10):\n",
    "                xi_i = np.random.randn(1)\n",
    "                # Solved differential diffusion equation:\n",
    "                x = x - (tf/tau)*(-mu)+np.sqrt(tf/tau)*(sigma_i*xi_i+sigma_s*xi_s)\n",
    "                # When the bound is reached, the rest of the decision value will be the bound value\n",
    "                if x >= bound:\n",
    "                    if len(decision_value)<200:\n",
    "                        reached_bound = True\n",
    "                        x = bound\n",
    "                        for i in range(199-len(decision_value)):\n",
    "                            decision_value.append(x)\n",
    "                    # When the iterations are over 200, break the loop:\n",
    "                    else:\n",
    "                        break\n",
    "                if x <= (-bound):\n",
    "                    if len(decision_value)<200:\n",
    "                        reached_bound = True\n",
    "                        x = -bound\n",
    "                        for i in range(200-len(decision_value)):\n",
    "                            decision_value.append(x)\n",
    "                    # When the iterations are over 200, break the loop:\n",
    "                    else:\n",
    "                        break\n",
    "                else:\n",
    "                    # All x before reaching the bound value will be stored in the deccision value list:\n",
    "                    decision_value.append(x)\n",
    "                # If the bound hasn't been reached and its over 200 iterations, break the loop\n",
    "                if len(decision_value)==200:\n",
    "                    if decision_value[len(decision_value)-1]> 0:\n",
    "                        decision_values.append(1)\n",
    "                    else:\n",
    "                        decision_values.append(0)\n",
    "                    break\n",
    "\n",
    "logit_mod = sm.Logit(decision_values,stimulus_values)\n",
    "result = logit_mod.fit()\n",
    "pars =result.params\n",
    "plt.plot(np.arange(0,len(pars),1),pars)\n",
    "plt.axis([0,20,0,15])\n",
    "positions = [20/10*n for n in range(11)]\n",
    "labels = [round(200/10*n,1) for n in range(11)]\n",
    "plt.xticks(positions, labels)\n",
    "plt.xlabel(\"time (ms)\")\n",
    "plt.title(\"Psychophysical Kernel Absorbing DDM\")"
   ]
  },
  {
   "cell_type": "markdown",
   "metadata": {},
   "source": [
    "## DDM reflecting\n"
   ]
  },
  {
   "cell_type": "code",
   "execution_count": 8,
   "metadata": {},
   "outputs": [
    {
     "name": "stdout",
     "output_type": "stream",
     "text": [
      "Optimization terminated successfully.\n",
      "         Current function value: 0.138742\n",
      "         Iterations 10\n"
     ]
    },
    {
     "data": {
      "text/plain": [
       "Text(0.5,1,'Psychophysical Kernel Reflecting DDM')"
      ]
     },
     "execution_count": 8,
     "metadata": {},
     "output_type": "execute_result"
    },
    {
     "data": {
      "image/png": "[encoded data removed]",
      "text/plain": [
       "<Figure size 432x288 with 1 Axes>"
      ]
     },
     "metadata": {},
     "output_type": "display_data"
    }
   ],
   "source": [
    "# Defining the values used for this simulation\n",
    "sigma_s = 0.7\n",
    "mu = 0\n",
    "bound = 0.5\n",
    "sigma_i = 0.2\n",
    "\n",
    "# Matrix of stimulus values\n",
    "stimulus_values = np.random.randn(1000,20)\n",
    "# Vector for the final decision values of each stimulus\n",
    "decision_values = []\n",
    "\n",
    "for stimulus_list in stimulus_values:\n",
    "    # The starting decision value will be 0:\n",
    "    x = 0\n",
    "    decision_value = []\n",
    "\n",
    "    for xi_s in stimulus_list:\n",
    "        # The process will be repeated 10 times for each xi_s since dt == 5ms\n",
    "        for y in range(10):\n",
    "            xi_i = np.random.randn(1)\n",
    "            # Solved differential diffusion equation:\n",
    "            x = x - (tf/tau)*(-mu)+np.sqrt(tf/tau)*(sigma_i*xi_i+sigma_s*xi_s)\n",
    "            # If the bound is exceeded, it will return the value of the bound\n",
    "            if x >= bound:\n",
    "                x=bound\n",
    "            elif x <= (-bound):\n",
    "                x=-bound\n",
    "\n",
    "            decision_value.append(x)\n",
    "    # If the last decision value is positive, 1 will be appended to the decision values list.\n",
    "    if decision_value[len(decision_value)-1] >= 0:\n",
    "        decision_values.append(1)\n",
    "    # If it is negative, 0 will be appended.\n",
    "    else:\n",
    "        decision_values.append(0)\n",
    "# Logistic regression is performed in order to obtain the parameters\n",
    "logit_mod = sm.Logit(decision_values, stimulus_values)\n",
    "result = logit_mod.fit()\n",
    "pars = result.params\n",
    "plt.plot(np.arange(0,len(pars),1),pars)\n",
    "plt.axis([0,20,0,15])\n",
    "positions = [20/10*n for n in range(11)]\n",
    "labels = [round(200/10*n,1) for n in range(11)]\n",
    "plt.xticks(positions, labels)\n",
    "plt.xlabel(\"time (ms)\")\n",
    "plt.title(\"Psychophysical Kernel Reflecting DDM\")"
   ]
  }
 ],
 "metadata": {
  "kernelspec": {
   "display_name": "Python 3",
   "language": "python",
   "name": "python3"
  },
  "language_info": {
   "codemirror_mode": {
    "name": "ipython",
    "version": 3
   },
   "file_extension": ".py",
   "mimetype": "text/x-python",
   "name": "python",
   "nbconvert_exporter": "python",
   "pygments_lexer": "ipython3",
   "version": "3.6.5"
  }
 },
 "nbformat": 4,
 "nbformat_minor": 2
}

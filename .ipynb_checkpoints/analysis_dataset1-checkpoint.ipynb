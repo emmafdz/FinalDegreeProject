{
 "cells": [
  {
   "cell_type": "markdown",
   "metadata": {},
   "source": [
    "# Data analysis of a 2AFC task"
   ]
  },
  {
   "cell_type": "code",
   "execution_count": null,
   "metadata": {},
   "outputs": [],
   "source": [
    "# Modifiable variables when changing computer location:\n",
    "# Directory where the images will be stored:\n",
    "directory_images = '/home/emma/github/TFG/results/fit_analysis/'\n",
    "directory_functions = '/home/emma/github/TFG/functions'\n",
    "directory_data = '/home/emma/github/TFG/data/'\n",
    "directory_results = '/home/emma/github/TFG/results/'"
   ]
  },
  {
   "cell_type": "code",
   "execution_count": null,
   "metadata": {},
   "outputs": [],
   "source": [
    "# Importing all the libraries that will be used\n",
    "import numpy as np\n",
    "import statsmodels.api as sm\n",
    "import matplotlib.pyplot as plt\n",
    "from scipy.optimize import curve_fit\n",
    "import json \n",
    "from sklearn.linear_model import LinearRegression\n",
    "import sys\n",
    "import datetime\n",
    "\n",
    "# Insert path where the functions are stored\n",
    "sys.path.insert(1, directory_functions)\n",
    "\n",
    "# Importing the functions that will be used\n",
    "import rat_functions1 as rf\n",
    "import help_plot as hp"
   ]
  },
  {
   "cell_type": "markdown",
   "metadata": {},
   "source": [
    "## Storing the data into variables"
   ]
  },
  {
   "cell_type": "code",
   "execution_count": null,
   "metadata": {},
   "outputs": [],
   "source": [
    "# Name of the rats\n",
    "rats = [\"Rat 24\",\"Rat 25\",\"Rat 35\", \"Rat 36\", \"Rat 37\"]"
   ]
  },
  {
   "cell_type": "markdown",
   "metadata": {},
   "source": [
    "## Open fit stimulus"
   ]
  },
  {
   "cell_type": "code",
   "execution_count": null,
   "metadata": {},
   "outputs": [],
   "source": [
    "# Opening JSON file \n",
    "f = open(directory_data+'ordered_processed_data.json',) \n",
    "# returns JSON object as  \n",
    "# a dictionary \n",
    "data = json.load(f) \n",
    "f.close()\n",
    "\n",
    "stimulus = data[0]\n",
    "coherences = data[1]\n",
    "target_sigmas = data[5]\n",
    "rewards = data[2]\n",
    "performances = data[4]\n",
    "choices = data[3]\n",
    "n_total_stimulus = [len(a) for a in stimulus]\n",
    "dates = data[6]"
   ]
  },
  {
   "cell_type": "code",
   "execution_count": null,
   "metadata": {},
   "outputs": [],
   "source": [
    "for rat in range(len(rats)):\n",
    "    print(rats[rat]+\": \"+str(len(stimulus[rat])))"
   ]
  },
  {
   "cell_type": "markdown",
   "metadata": {},
   "source": [
    "## Segment data"
   ]
  },
  {
   "cell_type": "code",
   "execution_count": null,
   "metadata": {},
   "outputs": [],
   "source": [
    "# i = 1\n",
    "# t = 2\n",
    "# # end = len(stimulus)-1\n",
    "# stimulus = [stimulus[a][1000:len(stimulus[a])-1] for a in range(len(stimulus))]\n",
    "# # stimulus_test = stimulus[:][8000:10000]\n",
    "# coherences = [coherences[a][1000:len(stimulus[a])-1] for a in range(len(coherences))]\n",
    "# # coherences_test = coherences[:][8000:10000]\n",
    "# target_sigmas = [target_sigmas[a][1000:len(stimulus[a])-1] for a in range(len(target_sigmas))]\n",
    "# # target_sigmas_test = target_sigmas[:][8000:10000]\n",
    "# rewards =[rewards[a][1000:len(stimulus[a])-1] for a in range(len(rewards))]\n",
    "# # rewards_test = rewards[:][8000:10000]\n",
    "# performances =[performances[a][1000:len(stimulus[a])-1] for a in range(len(performances))]\n",
    "# # performances_test = performances[:][8000:10000]\n",
    "# choices = [choices[a][1000:len(stimulus[a])-1] for a in range(len(choices))]\n",
    "# # choices_test = choices[:][8000:10000]\n",
    "# choices_fit = [choices_fit[a][1000:len(stimulus[a])-1] for a in range(len(choices_fit))]"
   ]
  },
  {
   "cell_type": "code",
   "execution_count": null,
   "metadata": {},
   "outputs": [],
   "source": [
    "# i = 1\n",
    "# t = 2\n",
    "# # end = len(stimulus)-1\n",
    "# stimulus = [stimulus[a][15000:3000] for a in range(len(stimulus))]\n",
    "# # stimulus_test = stimulus[:][8000:10000]\n",
    "# coherences = [coherences[a][10000:30000] for a in range(len(coherences))]\n",
    "# # coherences_test = coherences[:][8000:10000]\n",
    "# target_sigmas = [target_sigmas[a][10000:30000] for a in range(len(target_sigmas))]\n",
    "# # target_sigmas_test = target_sigmas[:][8000:10000]\n",
    "# rewards =[rewards[a][10000:30000] for a in range(len(rewards))]\n",
    "# # rewards_test = rewards[:][8000:10000]\n",
    "# performances =[performances[a][10000:30000] for a in range(len(performances))]\n",
    "# # performances_test = performances[:][8000:10000]\n",
    "# choices = [choices[a][10000:30000] for a in range(len(choices))]\n",
    "# # choices_test = choices[:][8000:10000]\n",
    "# # choices_fit = [choices_fit[a][10000:30000] for a in range(len(choices_fit))]"
   ]
  },
  {
   "cell_type": "markdown",
   "metadata": {},
   "source": [
    "## Separing the data by coherences (real and target)\n",
    "### Separing the data by target coherences"
   ]
  },
  {
   "cell_type": "code",
   "execution_count": null,
   "metadata": {},
   "outputs": [],
   "source": [
    "# Will compute a vector with the target coherences used for each rat\n",
    "coherence_vectors = [] # coherence_vectors[rat][coherence]\n",
    "\n",
    "for coh in coherences:\n",
    "    coh_vec = rf.return_coherences_vector(coh)\n",
    "    coherence_vectors.append(coh_vec)"
   ]
  },
  {
   "cell_type": "code",
   "execution_count": null,
   "metadata": {},
   "outputs": [],
   "source": [
    "coherence_vectors"
   ]
  },
  {
   "cell_type": "code",
   "execution_count": null,
   "metadata": {},
   "outputs": [],
   "source": [
    "# The stimulus, coherences, rewards, decisions, performances and target sigmas will be divided by coherences\n",
    "results_divided_coherence = [] # The vector will be organized as follows: \n",
    "                                                  # results_divided_coherence[rat][coherence]=[rewards, decisions, performances, stimulus, target_sigmas]\n",
    "\n",
    "for rat in range(len(rats)):\n",
    "    divided_coherence = []\n",
    "    for coherence in coherence_vectors[rat]:\n",
    "        divided_coherence.append(rf.divide_coh(coherences[rat],rewards[rat],choices[rat],performances[rat],stimulus[rat],target_sigmas[rat],coherence))\n",
    "    results_divided_coherence.append(divided_coherence)\n"
   ]
  },
  {
   "cell_type": "code",
   "execution_count": null,
   "metadata": {},
   "outputs": [],
   "source": [
    "len(results_divided_coherence)"
   ]
  },
  {
   "cell_type": "code",
   "execution_count": null,
   "metadata": {},
   "outputs": [],
   "source": [
    "# The percentages, the number of trials and the coherence vectors avobe x trials will be stored into the following variables for each rat:\n",
    "percentages = [] # percentages[rat][strong_coherence]\n",
    "total_number_trials = [] # total_number_trials[rat][strong_coherence]\n",
    "strong_coherence_vectors = [] # strong_coherence_vectors[rat] coherences which have more than 2500 trials\n",
    "\n",
    "n_trials_threshold = 1000 # Only the coherences which have avobe n_trials_threshold will be used\n",
    "\n",
    "for rat in range(len(rats)):\n",
    "    perc = []\n",
    "    number_trials = []\n",
    "    coh_vector = []\n",
    "    # for each coherence which has more than n_trials_threshold, the percentage of right choice will be computed\n",
    "    for i in range(len(results_divided_coherence[rat])):\n",
    "        if len(results_divided_coherence[rat][i][1]) > n_trials_threshold:\n",
    "            perc.append(sum(results_divided_coherence[rat][i][1])/len(results_divided_coherence[rat][i][1]))\n",
    "            coh_vector.append(coherence_vectors[rat][i])\n",
    "            number_trials.append(len(results_divided_coherence[rat][i][1]))\n",
    "    percentages.append(perc)\n",
    "    total_number_trials.append(number_trials)\n",
    "    strong_coherence_vectors.append(coh_vector)"
   ]
  },
  {
   "cell_type": "code",
   "execution_count": null,
   "metadata": {},
   "outputs": [],
   "source": [
    "# For each rat, plot the psychometric curve with the coherence values which have above x trials\n",
    "# fig, axs = plt.subplots(figsize = (8,5))\n",
    "for rat in range(len(rats)):\n",
    "    fig, axs = plt.subplots(figsize = (8,5))\n",
    "    # Computing the confidence intervals (95%)\n",
    "    z = 1.96\n",
    "    conf_int = [[percentages[rat][i]-z*(np.sqrt((percentages[rat][i]*(1-percentages[rat][i]))/total_number_trials[rat][i])) for i in range(len(total_number_trials[rat]))],\n",
    "                [percentages[rat][i]+z*(np.sqrt((percentages[rat][i]*(1-percentages[rat][i]))/total_number_trials[rat][i])) for i in range(len(total_number_trials[rat]))]]\n",
    "    conf_int = [[percentages[rat][i]-conf_int[0][i] for i in range(len(percentages[rat]))],[conf_int[1][i]-percentages[rat][i] for i in range(len(percentages[rat]))]]\n",
    "    axs.errorbar(strong_coherence_vectors[rat],percentages[rat],conf_int,marker='o',label = \"Real data\")\n",
    "#     conf_int = [[percentages_fit[rat][i]-z*(np.sqrt((percentages_fit[rat][i]*(1-percentages_fit[rat][i]))/total_number_trials_fit[rat][i])) for i in range(len(total_number_trials_fit[rat]))],\n",
    "#                 [percentages_fit[rat][i]+z*(np.sqrt((percentages_fit[rat][i]*(1-percentages_fit[rat][i]))/total_number_trials_fit[rat][i])) for i in range(len(total_number_trials_fit[rat]))]]\n",
    "#     conf_int = [[percentages_fit[rat][i]-conf_int[0][i] for i in range(len(percentages_fit[rat]))],[conf_int[1][i]-percentages_fit[rat][i] for i in range(len(percentages_fit[rat]))]]\n",
    "# #     axs.errorbar(strong_coherence_vectors_fit[rat],percentages_fit[rat],conf_int,marker='o',label = \"Fitted model\")\n",
    "#     conf_int = [[percentages_fit[rat][i]-z*(np.sqrt((percentages_fit[rat][i]*(1-percentages_fit[rat][i]))/total_number_trials_fit[rat][i])) for i in range(len(total_number_trials_fit[rat]))],\n",
    "#                 [percentages_fit[rat][i]+z*(np.sqrt((percentages_fit[rat][i]*(1-percentages_fit[rat][i]))/total_number_trials_fit[rat][i])) for i in range(len(total_number_trials_fit[rat]))]]\n",
    "#     axs.fill_between(strong_coherence_vectors_fit[rat],conf_int[0],conf_int[1],alpha=0.2,facecolor='#089FFF', linewidth=4, linestyle='dashdot', antialiased=True,label = \"Fitted model\")\n",
    "\n",
    "    fig.suptitle(\" Psychometric curve \"+rats[rat],fontsize = 18)\n",
    "    axs.legend(loc = \"upper left\",fontsize = 12)\n",
    "    fig.text(0.5, 0.02, \"Stimulus evidence (coherence)\", ha='center',fontsize = 16)\n",
    "    fig.text(0.03, 0.5, \"Probability to choose right\", va='center', rotation='vertical',fontsize = 18)\n",
    "    axs.axis([-1.1,1.1,0,1])\n",
    "    hp.xticks(axs,[-1,-0.75,-0.5,-0.25,0,0.25,0.5,0.75,1],xticklabels=None,fontsize=14)\n",
    "    hp.yticks(axs,[0,0.2,0.4,0.6,0.8,1],yticklabels = None,fontsize =14)\n",
    "\n",
    "    hp.remove_axis(axs)\n",
    "    plt.hlines(0.5,-1,1,linestyle='--',color='lightgrey')\n",
    "    plt.vlines(0,0.05,0.95,linestyle='--',color='lightgrey')\n",
    "\n",
    "# fig.savefig(directory_images+'psychometric_curves/psychometric_curves_target_coherences.png', bbox_inches = 'tight')"
   ]
  },
  {
   "cell_type": "markdown",
   "metadata": {},
   "source": [
    "## Separing the data by sigma and coherence"
   ]
  },
  {
   "cell_type": "code",
   "execution_count": null,
   "metadata": {},
   "outputs": [],
   "source": [
    "# Will compute a vector with the sigma used for each rat and each coherence\n",
    "sigma_lists = [] #sigma_lists[rat][sigma]\n",
    "\n",
    "for rat in range(len(rats)):\n",
    "    sigma_list = []\n",
    "    for i in range(len(results_divided_coherence[rat])):\n",
    "        for a in rf.count(results_divided_coherence[rat][i][4]):\n",
    "            sigma_list.append(a)\n",
    "    sigma_list = rf.count(sigma_list)\n",
    "    sigma_list = sorted(sigma_list)\n",
    "    sigma_lists.append(sigma_list)"
   ]
  },
  {
   "cell_type": "code",
   "execution_count": null,
   "metadata": {},
   "outputs": [],
   "source": [
    "# Data for each sigma will be stored\n",
    "results_divided_sigma = [] # results_divided_sigma[rat][coherence][sigma][reward, decision, performance, stim]\n",
    "\n",
    "for rat in range(len(rats)):\n",
    "    divided_sigma = []\n",
    "    for i in range(len(results_divided_coherence[rat])):\n",
    "        results = []\n",
    "        for sigma in sigma_lists[rat]:\n",
    "            results.append(rf.divide_sigma(results_divided_coherence[rat][i][0],results_divided_coherence[rat][i][1],results_divided_coherence[rat][i][2],\n",
    "                                             results_divided_coherence[rat][i][3],results_divided_coherence[rat][i][4],sigma))\n",
    "        divided_sigma.append(results)\n",
    "    results_divided_sigma.append(divided_sigma)"
   ]
  },
  {
   "cell_type": "code",
   "execution_count": null,
   "metadata": {},
   "outputs": [],
   "source": [
    "# Compute the percentages of right choice for the results_divided_sigma\n",
    "percentages_lists, coherences_lists, length_lists, length_all_rats = rf.compute_percentages(rats,results_divided_sigma,coherence_vectors)"
   ]
  },
  {
   "cell_type": "markdown",
   "metadata": {},
   "source": [
    "### Comparing coherence distribution for each sigma"
   ]
  },
  {
   "cell_type": "code",
   "execution_count": null,
   "metadata": {},
   "outputs": [],
   "source": [
    "# Computing the coherence vector for all rats together\n",
    "coherences_all_rats = []\n",
    "for rat in range(len(rats)):\n",
    "    coherences_all_rats.append(coherence_vectors[rat])\n",
    "coherences_all_rats = rf.return_vector(coherences_all_rats)\n",
    "\n",
    "# Computing the sigma vector for all rats tohether\n",
    "\n",
    "sigmas_all_rats = rf.return_vector(sigma_lists)"
   ]
  },
  {
   "cell_type": "code",
   "execution_count": null,
   "metadata": {},
   "outputs": [],
   "source": [
    "# Generates a file with a table of the number of trials for each coherence and sigma for all rats\n",
    "rf.recount_trials_all_rats(sigma_lists,coherences_all_rats,length_all_rats,\"all rats\",coherence_vectors,rats,sigmas_all_rats,directory_images)\n",
    "# Will make the chart with the recount of trials for each coherence and each sigma for each rat\n",
    "for rat in range(len(rats)):\n",
    "    rf.recount_trials(sigma_lists[rat],coherence_vectors[rat],length_lists[rat],rats[rat],coherences_lists[rat],directory_images)"
   ]
  },
  {
   "cell_type": "code",
   "execution_count": null,
   "metadata": {},
   "outputs": [],
   "source": [
    "# Compute sensitivity and bias using curve_fit\n",
    "all_sensitivity, all_bias = rf.compute_sensitivity(rats,coherences_lists,percentages_lists,sigma_lists,directory_images)"
   ]
  },
  {
   "cell_type": "code",
   "execution_count": null,
   "metadata": {},
   "outputs": [],
   "source": [
    "# Performing bootstrap to compute confidence intervals\n",
    "n_trials = 10\n",
    "\n",
    "all_percentages_lists_boot = []\n",
    "all_coherences_lists_boot = [] \n",
    "all_length_lists_boot = [] \n",
    "all_length_all_rats_boot  = []\n",
    "for i in range(n_trials):\n",
    "    new_divided_sigma = rf.bootstrap(results_divided_sigma)\n",
    "    percentages_lists_boot, coherences_lists_boot, length_lists_boot, length_all_rats_boot = rf.compute_percentages(rats,new_divided_sigma,coherence_vectors)\n",
    "    all_percentages_lists_boot.append(percentages_lists_boot)\n",
    "    all_coherences_lists_boot.append(coherences_lists_boot)\n",
    "    all_length_lists_boot.append(length_lists_boot)\n",
    "    all_length_all_rats_boot.append(length_all_rats_boot)"
   ]
  },
  {
   "cell_type": "code",
   "execution_count": null,
   "metadata": {
    "scrolled": true
   },
   "outputs": [],
   "source": [
    "# Compute sensitivity and bias using curve_fit for the bootstrap data\n",
    "all_sensitivity_boot = []\n",
    "all_bias_boot = []\n",
    "for i in range(len(all_percentages_lists_boot)):\n",
    "    sensitivity_boot, bias_boot = rf.compute_sensitivity_boot(rats,all_coherences_lists_boot[i],all_percentages_lists_boot[i],sigma_lists)\n",
    "    all_sensitivity_boot.append(sensitivity_boot)\n",
    "    all_bias_boot.append(bias_boot)"
   ]
  },
  {
   "cell_type": "code",
   "execution_count": null,
   "metadata": {},
   "outputs": [],
   "source": [
    "# Computing the confidence intervals for the sensitivity\n",
    "sensitivity_sigma = [np.zeros((len(sigma_lists[0]),n_trials)),np.zeros((len(sigma_lists[1]),n_trials)),np.zeros((len(sigma_lists[2]),n_trials)),np.zeros((len(sigma_lists[3]),n_trials)),np.zeros((len(sigma_lists[4]),n_trials))]\n",
    "\n",
    "for trial in range(len(all_sensitivity_boot)):\n",
    "    for rat in range(len(all_sensitivity_boot[trial])):\n",
    "        for sigm in range(len(all_sensitivity_boot[trial][rat])):\n",
    "             sensitivity_sigma[rat][sigm][trial] = all_sensitivity_boot[trial][rat][sigm]\n",
    "\n",
    "conf_intervals_sensitivity = []\n",
    "for rat in range(len(rats)):\n",
    "    sensitivity_rat = []\n",
    "    for a in range(len(all_sensitivity_boot[0][rat])):\n",
    "        sens = sensitivity_sigma[rat][a]\n",
    "\n",
    "        z = 1.96\n",
    "        conf_int = [np.mean(sens)-z*np.std(sens),np.mean(sens)+z*np.std(sens)]\n",
    "        sensitivity_rat.append(conf_int)\n",
    "\n",
    "    conf_intervals_sensitivity.append(sensitivity_rat)"
   ]
  },
  {
   "cell_type": "code",
   "execution_count": null,
   "metadata": {},
   "outputs": [],
   "source": [
    "# Computing the bias confidence intervals\n",
    "bias_sigma = [np.zeros((len(sigma_lists[0]),n_trials)),np.zeros((len(sigma_lists[1]),n_trials)),np.zeros((len(sigma_lists[2]),n_trials)),np.zeros((len(sigma_lists[3]),n_trials)),np.zeros((len(sigma_lists[4]),n_trials))]\n",
    "\n",
    "for trial in range(len(all_bias_boot)):\n",
    "    for rat in range(len(all_bias_boot[trial])):\n",
    "        for sigm in range(len(all_bias_boot[trial][rat])):\n",
    "             bias_sigma[rat][sigm][trial] = all_bias_boot[trial][rat][sigm]\n",
    "\n",
    "conf_intervals_bias = []\n",
    "for rat in range(len(rats)):\n",
    "    bias_rat = []\n",
    "    for a in range(len(all_bias_boot[0][rat])):\n",
    "        bias = bias_sigma[rat][a]\n",
    "\n",
    "        z = 1.96\n",
    "        conf_int = [np.mean(bias)-z*np.std(bias),np.mean(bias)+z*np.std(bias)]\n",
    "        bias_rat.append(conf_int)\n",
    "\n",
    "    conf_intervals_bias.append(bias_rat)\n"
   ]
  },
  {
   "cell_type": "code",
   "execution_count": null,
   "metadata": {
    "scrolled": false
   },
   "outputs": [],
   "source": [
    "# Plot of the sensitivity over sigma\n",
    "for rat in range(len(rats)):\n",
    "    fig, axs = plt.subplots(figsize = (8,5))\n",
    "    conf_int = [[conf_intervals_sensitivity[rat][i][0] for i in range(len(sigma_lists[rat]))],[conf_intervals_sensitivity[rat][i][1] for i in range(len(sigma_lists[rat]))]]\n",
    "    conf_int_0 = []\n",
    "    conf_int_1 = []\n",
    "    new_sigma_list = []\n",
    "    new_sensitivity = []\n",
    "    for i in range(len(conf_int[0])):\n",
    "        if str(conf_int[0][i]) != \"nan\":\n",
    "            if all_sensitivity[rat][i] != None:\n",
    "\n",
    "                conf_int_0.append(conf_int[0][i]-all_sensitivity[rat][i])\n",
    "                conf_int_1.append(all_sensitivity[rat][i]-conf_int[1][i])\n",
    "                new_sigma_list.append(sigma_lists[rat][i])\n",
    "                new_sensitivity.append(all_sensitivity[rat][i])\n",
    "    conf_int = [conf_int_0,conf_int_1]\n",
    "    plt.errorbar(new_sigma_list,new_sensitivity,conf_int,marker='o',color= \"skyblue\")\n",
    "    plt.axis([-0.1,0.9,-1,50])\n",
    "    \n",
    "    \n",
    "    hp.remove_axis(axs)\n",
    "    fig.suptitle(rats[rat]+\" sensitivity\",fontsize = 18)\n",
    "    fig.text(0.5, 0.02, \"Sigma\", ha='center',fontsize = 16)\n",
    "    fig.text(0.03, 0.5, \"Sensitivity\", va='center', rotation='vertical',fontsize = 18)\n",
    "    fig.savefig(directory_images+'sensitivity/sensitivity_'+rats[rat]+'.png', bbox_inches = 'tight')"
   ]
  },
  {
   "cell_type": "code",
   "execution_count": null,
   "metadata": {
    "scrolled": false
   },
   "outputs": [],
   "source": [
    "# Plot of the bias over sigma\n",
    "for rat in range(len(rats)):\n",
    "    fig, axs = plt.subplots(figsize = (8,5))\n",
    "    conf_int = [[conf_intervals_bias[rat][i][0] for i in range(len(sigma_lists[rat]))],[conf_intervals_bias[rat][i][1] for i in range(len(sigma_lists[rat]))]]\n",
    "    conf_int_0 = []\n",
    "    conf_int_1 = []\n",
    "    new_sigma_list = []\n",
    "    new_bias = []\n",
    "    for i in range(len(conf_int[0])):\n",
    "        if str(conf_int[0][i]) != \"nan\":\n",
    "            if all_bias[rat][i] != None:\n",
    "                conf_int_0.append(conf_int[0][i]-all_bias[rat][i])\n",
    "                conf_int_1.append(all_bias[rat][i]-conf_int[1][i])\n",
    "                new_sigma_list.append(sigma_lists[rat][i])\n",
    "                new_bias.append(all_bias[rat][i])\n",
    "    conf_int = [conf_int_0,conf_int_1]\n",
    "    plt.errorbar(new_sigma_list,new_bias,conf_int,marker='o',color=\"skyblue\")\n",
    "    \n",
    " \n",
    "    plt.hlines(0,-0.1,0.9,color = \"grey\",linestyles = \"--\")\n",
    "    plt.axis([-0.1,0.9,-0.8,0.3])\n",
    "    hp.remove_axis(axs)\n",
    "    fig.suptitle(rats[rat]+\" bias\",fontsize = 18)\n",
    "    fig.text(0.5, 0.02, \"Sigma\", ha='center',fontsize = 16)\n",
    "    fig.text(0.03, 0.5, \"Bias\", va='center', rotation='vertical',fontsize = 18)\n",
    "    fig.savefig(directory_images+'bias/bias'+rats[rat]+'.png', bbox_inches = 'tight')"
   ]
  },
  {
   "cell_type": "markdown",
   "metadata": {},
   "source": [
    "## Dividing the data by sigma (without taking coherence into account)"
   ]
  },
  {
   "cell_type": "code",
   "execution_count": null,
   "metadata": {
    "scrolled": false
   },
   "outputs": [],
   "source": [
    "results_divided_sigma_nocoh_fit = [] # results_divided_sigma_nocoh[rat][sigma][reward,decision,performance,stim]\n",
    "perc_sigma_nocoh_fit = []\n",
    "# Dividing the data over sigma (not by coherence)\n",
    "results_divided_sigma_nocoh = [] # results_divided_sigma_nocoh[rat][sigma][reward,decision,performance,stim]\n",
    "perc_sigma_nocoh = []\n",
    "\n",
    "for rat in range(len(rats)):\n",
    "    divided_sigma = []\n",
    "    for sigma in sigma_lists[rat]:\n",
    "        divided_sigma.append(rf.divide_sigma_1(rewards[rat],choices[rat],performances[rat],stimulus[rat],target_sigmas[rat],sigma))\n",
    "    perc = []\n",
    "    number_trials = []\n",
    "    results_divided_sigma_nocoh.append(divided_sigma)\n",
    "    for i in range(len(divided_sigma)):\n",
    "        perc.append(sum(results_divided_coherence[rat][i][2])/len(results_divided_coherence[rat][i][2]))\n",
    "        number_trials.append(len(results_divided_coherence[rat][i][1]))\n",
    "    perc_sigma_nocoh.append(perc)\n",
    "\n",
    "\n",
    "    fig, axs = plt.subplots(figsize = (8,5))\n",
    "    plt.plot(sigma_lists[rat],perc,marker = 'o',color=\"skyblue\")\n",
    "    plt.axis([0,0.6,0,1])\n",
    "    hp.remove_axis(axs)\n",
    "    fig.suptitle(rats[rat]+\" accuracy\",fontsize = 18)\n",
    "    fig.text(0.5, 0.02, \"Sigma\", ha='center',fontsize = 16)\n",
    "    fig.text(0.03, 0.5, \"Accuracy\", va='center', rotation='vertical',fontsize = 18)\n",
    "#     fig.savefig(directory_images+'accuracy_vs_sigma/accuracy_vs_sigma'+rats[rat]+'.png', bbox_inches = 'tight')\n",
    "#     divided_sigma = []\n",
    "        \n",
    "#     for sigma in sigma_lists[rat]:\n",
    "#         divided_sigma.append(rf.divide_sigma_1(rewards[rat],choices_fit[rat],performances[rat],stimulus[rat],target_sigmas[rat],sigma))\n",
    "#     perc = []\n",
    "#     number_trials = []\n",
    "#     results_divided_sigma_nocoh_fit.append(divided_sigma)\n",
    "#     for i in range(len(divided_sigma)):\n",
    "#         perc.append(sum(results_divided_coherence_fit[rat][i][2])/len(results_divided_coherence_fit[rat][i][2]))\n",
    "#         number_trials.append(len(results_divided_coherence_fit[rat][i][1]))\n",
    "#     perc_sigma_nocoh_fit.append(perc)\n",
    "\n",
    "\n",
    "#     plt.plot(sigma_lists[rat],perc,marker = 'o',color=\"red\")\n",
    "#     plt.axis([0,1,0,1])\n",
    "#     hp.remove_axis(axs)\n",
    "#     fig.suptitle(rats[rat]+\" accuracy\",fontsize = 18)\n",
    "#     fig.text(0.5, 0.02, \"Sigma\", ha='center',fontsize = 16)\n",
    "#     fig.text(0.03, 0.5, \"Accuracy\", va='center', rotation='vertical',fontsize = 18)\n",
    "#     fig.savefig(directory_images+'accuracy_vs_sigma/accuracy_vs_sigma'+rats[rat]+'.png', bbox_inches = 'tight')\n",
    "\n",
    "# PODRIA FER ELS CONFIDENCE INTERVALS AQUÍ"
   ]
  },
  {
   "cell_type": "code",
   "execution_count": null,
   "metadata": {},
   "outputs": [],
   "source": [
    "len(results_divided_sigma_nocoh[0][0][3])"
   ]
  },
  {
   "cell_type": "markdown",
   "metadata": {},
   "source": [
    "## Kernel"
   ]
  },
  {
   "cell_type": "code",
   "execution_count": null,
   "metadata": {},
   "outputs": [],
   "source": [
    "for rat in range(len(rats)):\n",
    "    for sig in range(len(results_divided_sigma_nocoh[rat])):\n",
    "        for sti in range(len(results_divided_sigma_nocoh[rat][sig][3])):\n",
    "            if len(results_divided_sigma_nocoh[rat][sig][3][sti]) == 20:\n",
    "                group = 2\n",
    "\n",
    "                results_divided_sigma_nocoh[rat][sig][3][sti] = np.ndarray.tolist(np.asarray(results_divided_sigma_nocoh[rat][sig][3][sti]).reshape(-1, group).mean(axis=1))\n",
    "            "
   ]
  },
  {
   "cell_type": "code",
   "execution_count": null,
   "metadata": {},
   "outputs": [],
   "source": [
    "group = 2\n",
    "a = np.ndarray.tolist(np.asarray(results_divided_sigma_nocoh[0][2][3][2]).reshape(-1, group).mean(axis=1))\n",
    "print(results_divided_sigma_nocoh[0][2][3][2])\n",
    "print(a)"
   ]
  },
  {
   "cell_type": "code",
   "execution_count": null,
   "metadata": {},
   "outputs": [],
   "source": [
    "def divided_time_PK(rats,results_divided_sigma_nocoh,results_divided_sigma_nocoh_fit,sigma_lists,rats_list,directory_images):\n",
    "     # results_divided_sigma_coh[rat][sigma][reward,decision,performance,stim]\n",
    "        fig, ((axs1,axs2,axs3)) = plt.subplots(1,3,figsize = (18,4))\n",
    "\n",
    "        axs = [0,axs1,axs2,axs3,0,0]\n",
    "        color = [0,\"maroon\",\"brown\",\"red\",\"orangered\",\"orange\",\"yellow\"]\n",
    "        index = 1\n",
    "        aranges = [np.arange(1,4,1),np.arange(2,5,1),np.arange(2,5,1),np.arange(2,5,1),np.arange(1,4,1),np.arange(2,5,1),np.arange(2,5,1)]\n",
    "        for rat in rats:\n",
    "            for a in aranges[rat]:\n",
    "                print(rat,len(results_divided_sigma_nocoh[rat][a][3][0]))\n",
    "                try:\n",
    "                    conf_int = PK(results_divided_sigma_nocoh[rat][a][1],results_divided_sigma_nocoh[rat][a][3],axs[index],color[index])            \n",
    "                    conf_int_fit = PK_fit(results_divided_sigma_nocoh_fit[rat][a][1],results_divided_sigma_nocoh_fit[rat][a][3],axs[index],color[index])            \n",
    "                    axs[index].set_title(\"Sigma = \"+str(sigma_lists[rat][a]))\n",
    "                    axs[index].spines['right'].set_visible(False)\n",
    "                    axs[index].spines['top'].set_visible(False)\n",
    "                except:\n",
    "                    print(\"another error\")\n",
    "                index +=1\n",
    "#         plt.ylim(-1.5,1.5)    \n",
    "        fig.suptitle(\"PK for \"+rats_list[rat],fontsize = 18)\n",
    "        fig.text(0.5, 0.001, 'Frame nº', ha='center',fontsize = 16)\n",
    "        fig.text(0.08, 0.5, 'Impact', va='center', rotation='vertical',fontsize = 18)\n",
    "        \n",
    "        fig.savefig(directory_images+'PK/temporal_PK'+rats_list[rat]+'.png', bbox_inches = 'tight')"
   ]
  },
  {
   "cell_type": "code",
   "execution_count": null,
   "metadata": {},
   "outputs": [],
   "source": [
    "def PK(decision,stim,axs,col):\n",
    "    logit_mod = sm.Logit(decision, stim)\n",
    "    result = logit_mod.fit()\n",
    "\n",
    "    pars_list =result.params\n",
    "    confidence_interval = result.conf_int()\n",
    "    conf_int = [[i[0] for i in confidence_interval],[i[1] for i in confidence_interval]]\n",
    "    conf_int = [pars_list-conf_int[0],conf_int[1]-pars_list]\n",
    "    axs.errorbar(np.arange(0,len(pars_list),1),pars_list,conf_int,color = col,marker='s')\n",
    "\n",
    "    return(confidence_interval)\n"
   ]
  },
  {
   "cell_type": "code",
   "execution_count": null,
   "metadata": {},
   "outputs": [],
   "source": [
    "def PK_fit(decision,stim,axs,col):\n",
    "    logit_mod = sm.Logit(decision, stim)\n",
    "    result = logit_mod.fit()\n",
    "\n",
    "    pars_list =result.params\n",
    "    confidence_interval = result.conf_int()\n",
    "    conf_int = [[i[0] for i in confidence_interval],[i[1] for i in confidence_interval]]\n",
    "\n",
    "    axs.fill_between(np.arange(0,len(pars_list),1),conf_int[0],conf_int[1],alpha=0.2, facecolor='#089FFF',\n",
    "    linewidth=4, linestyle='dashdot', antialiased=True)\n",
    "\n",
    "   \n",
    "    return(confidence_interval)\n"
   ]
  },
  {
   "cell_type": "code",
   "execution_count": null,
   "metadata": {},
   "outputs": [],
   "source": [
    "rats_sec = [1,2,4]\n",
    "plt.figure()\n",
    "divided_time_PK([0],results_divided_sigma_nocoh,results_divided_sigma_nocoh_fit,sigma_lists,rats,directory_images)"
   ]
  },
  {
   "cell_type": "code",
   "execution_count": null,
   "metadata": {},
   "outputs": [],
   "source": [
    "rats_sec = [1,2,4]\n",
    "divided_time_PK([1],results_divided_sigma_nocoh,results_divided_sigma_nocoh_fit,sigma_lists,rats,directory_images)"
   ]
  },
  {
   "cell_type": "code",
   "execution_count": null,
   "metadata": {},
   "outputs": [],
   "source": [
    "rats_sec = [1,2,4]\n",
    "divided_time_PK([2],results_divided_sigma_nocoh,results_divided_sigma_nocoh_fit,sigma_lists,rats,directory_images)"
   ]
  },
  {
   "cell_type": "code",
   "execution_count": null,
   "metadata": {},
   "outputs": [],
   "source": [
    "rats_half = [0,3]\n",
    "divided_time_PK([3],results_divided_sigma_nocoh,results_divided_sigma_nocoh_fit,sigma_lists,rats,directory_images)"
   ]
  },
  {
   "cell_type": "code",
   "execution_count": null,
   "metadata": {},
   "outputs": [],
   "source": [
    "rats_half = [0,3]\n",
    "divided_time_PK([4],results_divided_sigma_nocoh,results_divided_sigma_nocoh_fit,sigma_lists,rats,directory_images)"
   ]
  },
  {
   "cell_type": "code",
   "execution_count": null,
   "metadata": {},
   "outputs": [],
   "source": [
    "# Spatial Kernel for all sigmas for each rat\n",
    "\n",
    "# For each stimulus, how many stimulus are from -1 to -0.9, etc to get a transformed stimulus, then make a logistic regression\n",
    "color = [0,\"maroon\",\"brown\",\"red\",\"orangered\",\"orange\",\"yellow\"]\n",
    "\n",
    "new_transf_stim = rf.transformed_stimulus([stimulus[1],stimulus[2],stimulus[4]])\n",
    "new_transf_sec_stim  = rf.transformed_stimulus([stimulus[0],stimulus[3]])\n",
    "new_dec_half = [choices[1],choices[2],choices[4]]\n",
    "new_dec_sec = [choices[0],choices[3]]\n",
    "\n",
    " \n",
    "for rat in range(len([1,2,4])):\n",
    "#     try:\n",
    "    rats_half = [1,2,4]\n",
    "\n",
    "    fig, axs = plt.subplots(figsize = (8,5))\n",
    "    plt.xticks([0,2.5,5,7.5,10],[\"-1\",\"-0.5\",\"0\",\"0.5\",\"1\"])\n",
    "\n",
    "    logit_mod = sm.Logit(new_dec_half[rat], new_transf_stim[rat])\n",
    "    result = logit_mod.fit()\n",
    "    pars_list =result.params\n",
    "    confidence_interval = result.conf_int()\n",
    "    conf_int = [[i[0] for i in confidence_interval],[i[1] for i in confidence_interval]]\n",
    "    conf_int = [pars_list-conf_int[0],conf_int[1]-pars_list]\n",
    "    x_values = np.arange(0,len(pars_list),1)\n",
    "    plt.errorbar(x_values,pars_list,conf_int,marker='o')\n",
    "    \n",
    "    slope, intercept = np.polyfit([x_values[4],x_values[5],x_values[6]], [pars_list[4],pars_list[5],pars_list[6]], 1)\n",
    "    abline_values = [slope * i + intercept for i in x_values]\n",
    "    plt.plot(x_values, abline_values,'grey', linestyle = \"dashed\")\n",
    "\n",
    "    fig.suptitle(\"Spatial Kernel \"+rats[rats_half[rat]],fontsize = 18)\n",
    "    fig.text(0.5, 0.02, \"Coherence value\", ha='center',fontsize = 16)\n",
    "    fig.text(0.03, 0.5, \"Spatial Kernel\", va='center', rotation='vertical',fontsize = 18)\n",
    "\n",
    "\n",
    "    plt.ylim(-0.5,0.5)\n",
    "    hp.remove_axis(axs)\n",
    "    fig.savefig(directory_images+'PK/spatial_PK_'+rats[rats_half[rat]]+'_half_sec.png', bbox_inches = 'tight')\n",
    "#     except:\n",
    "#         print(\"no ha funcionat\"+str(rat))\n",
    "\n",
    "rats_sec = [0,3]\n",
    "        \n",
    "for rat in range(len(rats_sec)):\n",
    "#     try:\n",
    "#         print(rat)\n",
    "    fig, axs = plt.subplots(figsize = (8,5))\n",
    "\n",
    "    plt.xticks([0,2.5,5,7.5,10], [\"-1\",\"-0.5\",\"0\",\"0.5\",\"1\"])\n",
    "    logit_mod = sm.Logit(new_dec_sec[rat], new_transf_sec_stim[rat])\n",
    "    result = logit_mod.fit()\n",
    "    pars_list =result.params\n",
    "    confidence_interval = result.conf_int()\n",
    "    conf_int = [[i[0] for i in confidence_interval],[i[1] for i in confidence_interval]]\n",
    "    conf_int = [pars_list-conf_int[0],conf_int[1]-pars_list]\n",
    "    plt.errorbar(np.arange(0,len(pars_list),1),pars_list,conf_int,marker='o')\n",
    "    plt.ylim(-0.5,0.5)\n",
    "\n",
    "    x_values = np.arange(0,len(pars_list),1)\n",
    "\n",
    "    slope, intercept = np.polyfit([x_values[4],x_values[5],x_values[6]], [pars_list[4],pars_list[5],pars_list[6]], 1)\n",
    "    abline_values = [slope * i + intercept for i in x_values]\n",
    "    plt.plot(x_values, abline_values,'grey', linestyle = \"dashed\")\n",
    "    plt.ylim(-0.5,0.5)\n",
    "\n",
    "    fig.suptitle(\"Spatial Kernel \"+rats[rats_sec[rat]],fontsize = 18)\n",
    "    fig.text(0.5, 0.02, \"Coherence value\", ha='center',fontsize = 16)\n",
    "    fig.text(0.03, 0.5, \"Spatial Kernel\", va='center', rotation='vertical',fontsize = 18)\n",
    "\n",
    "    hp.remove_axis(axs)\n",
    "    fig.savefig(directory_images+'PK/spatial_PK_'+rats[rats_sec[rat]]+'_sec.png', bbox_inches = 'tight')\n",
    "#     except:\n",
    "#         print(\"no ha funcionat\"+str(rat))\n"
   ]
  }
 ],
 "metadata": {
  "kernelspec": {
   "display_name": "Python 3",
   "language": "python",
   "name": "python3"
  },
  "language_info": {
   "codemirror_mode": {
    "name": "ipython",
    "version": 3
   },
   "file_extension": ".py",
   "mimetype": "text/x-python",
   "name": "python",
   "nbconvert_exporter": "python",
   "pygments_lexer": "ipython3",
   "version": "3.8.5"
  }
 },
 "nbformat": 4,
 "nbformat_minor": 2
}

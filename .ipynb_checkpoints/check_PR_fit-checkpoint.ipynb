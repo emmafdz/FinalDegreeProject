{
 "cells": [
  {
   "cell_type": "code",
   "execution_count": null,
   "metadata": {},
   "outputs": [],
   "source": [
    "# Modifiable variables when changing computer location:\n",
    "# Directory where the images will be stored:\n",
    "directory_images = '/home/emma/github/TFG/results/fit_model/'\n",
    "directory_functions = '/home/emma/github/TFG/functions'\n",
    "directory_data = '/home/emma/github/TFG/data/'\n",
    "directory_results = '/home/emma/github/TFG/results/'\n",
    "\n",
    "# Importing all the libraries that will be used\n",
    "import numpy as np\n",
    "import statsmodels.api as sm\n",
    "import matplotlib.pyplot as plt\n",
    "from scipy.optimize import curve_fit\n",
    "import json \n",
    "from sklearn.linear_model import LinearRegression\n",
    "import sys\n",
    "import datetime\n",
    "import pandas as pd\n",
    "\n",
    "# Insert path where the functions are stored\n",
    "sys.path.insert(1, directory_functions)\n",
    "\n",
    "# Importing the functions that will be used\n",
    "import rat_functions1 as rf\n",
    "import help_plot as hp"
   ]
  },
  {
   "cell_type": "code",
   "execution_count": null,
   "metadata": {},
   "outputs": [],
   "source": [
    "fig, axs = plt.subplots(2,4,figsize =(15,7.5) )\n",
    "PR_total = []\n",
    "param_fits = []\n",
    "i = 0\n",
    "titles = []\n",
    "for rat in [24,25,36,37]:\n",
    "# for rat in [24]:\n",
    "    # Opening JSON file \n",
    "    titles.append(\"Rat \"+str(rat)+\" 05 sec\")\n",
    "    f = open(directory_results+'PRs/check_PR_fit_PR_simStLinPi_subject'+str(rat)+'_05sec.json',) \n",
    "#     print('/check_PR_fit_PR_simStLinPi_subject'+str(rat)+'_05sec.json')\n",
    "    # returns JSON object as  \n",
    "    # a dictionary \n",
    "    data = json.load(f) \n",
    "    f.close()\n",
    "    print(data.keys())\n",
    "#     fig,axes = plt.subplots()\n",
    "#     plt.plot(data[\"PR_sim\"],data[\"PR_fit\"][0:100],\".\")\n",
    "    \n",
    "    axs[0][i].plot([0,1],[0,1],\"k--\")\n",
    "    axs[0][i].plot(data[\"PR_sim\"][30:80],data[\"PR_fit\"][30:80],\".\",color = \"cornflowerblue\")\n",
    "    axs[0][i].tick_params(axis='y', labelsize=16 )\n",
    "    axs[0][i].tick_params(axis='x', labelsize=16 )\n",
    "    axs[0][i].set_title(\"Rat \"+str(rat)+\" 05 sec\",fontsize = 18)\n",
    "\n",
    "    f = open(directory_results+'PRs/synthetic_data_PI.json',) \n",
    "#     print('/check_PR_fit_PR_simStLinPi_subject'+str(rat)+'_05sec.json')\n",
    "    # returns JSON object as  \n",
    "    # a dictionary \n",
    "    data = json.load(f) \n",
    "    f.close()\n",
    "    i+=1\n",
    "i = 0\n",
    "PR_total = []\n",
    "param_fits = []\n",
    "# for rat in [24,25,36,37]:\n",
    "for rat in [25,35,37]:\n",
    "    titles.append(\"Rat \"+str(rat)+\" 1 sec\")\n",
    "    # Opening JSON file \n",
    "    f = open(directory_results+'PRs/check_PR_fit_PR_simStLinPi_subject'+str(rat)+'_1sec.json',) \n",
    "    # returns JSON object as  \n",
    "    # a dictionary \n",
    "    data = json.load(f) \n",
    "    f.close()\n",
    "    print(data.keys())\n",
    "#     fig,axes = plt.subplots()\n",
    "#     plt.plot(data[\"PR_sim\"],data[\"PR_fit\"][0:100],\".\")\n",
    "    \n",
    "    axs[1][i].plot([0,1],[0,1],\"k--\")\n",
    "    axs[1][i].plot(data[\"PR_sim\"][50:100],data[\"PR_fit\"][50:100],\".\",color = \"cornflowerblue\")\n",
    "    axs[1][i].tick_params(axis='y', labelsize=16 )\n",
    "    axs[1][i].tick_params(axis='x', labelsize=16)\n",
    "    axs[1][i].set_title(\"Rat \"+str(rat)+\" 1 sec\",fontsize = 18)\n",
    "\n",
    "    i +=1\n",
    "fig.tight_layout(pad=3.0)\n",
    "fig.text(0.5, 0, \"PR sim\", ha='center',fontsize =24)\n",
    "fig.text(0., 0.5, \"PR fit\", va='center', rotation='vertical',fontsize = 24)\n",
    "title = \"Double Well with logistic stimulus transformation\"# \\n with time adaptation\"\n",
    "fig.text(0.5, 0.97,title, ha =\"center\",fontsize = 24)\n",
    "fig.savefig(\"/home/emma/github/TFG/figure_PR/StLogDw_1.png\",bbox_inches='tight')"
   ]
  },
  {
   "cell_type": "code",
   "execution_count": null,
   "metadata": {},
   "outputs": [],
   "source": [
    "PR_total = []\n",
    "param_fits = []\n",
    "# for rat in [24,25,36,37]:\n",
    "for rat in [25,35,37]:\n",
    "    # Opening JSON file \n",
    "    f = open(directory_results+'PRs/check_PR_fit_PR_simStLinPi_subject'+str(rat)+'_1sec.json',) \n",
    "    # returns JSON object as  \n",
    "    # a dictionary \n",
    "    data = json.load(f) \n",
    "    f.close()\n",
    "    print(data.keys())\n",
    "    fig,axes = plt.subplots()\n",
    "#     plt.plot(data[\"PR_sim\"],data[\"PR_fit\"][0:100],\".\")\n",
    "    \n",
    "    axes.plot([0,1],[0,1],\"k--\")\n",
    "    axes.plot(data[\"PR_sim\"][0:50],data[\"PR_fit\"][0:50],\".\")\n",
    "    plt.xlabel(\"PR sim\")\n",
    "    plt.ylabel(\"PR fit\")"
   ]
  },
  {
   "cell_type": "code",
   "execution_count": null,
   "metadata": {},
   "outputs": [],
   "source": [
    "#plt.plot([x[100] for x in xfinal])\n",
    "plt.plot(xfinal[50])"
   ]
  },
  {
   "cell_type": "code",
   "execution_count": null,
   "metadata": {},
   "outputs": [],
   "source": [
    "fig, ax = plt.subplots(figsize=(50, 30))\n",
    "ax.imshow(xfinal)"
   ]
  },
  {
   "cell_type": "code",
   "execution_count": null,
   "metadata": {},
   "outputs": [],
   "source": [
    "\n",
    "# Opening JSON file \n",
    "f = open(directory_results+'PRs/one_pdf.json',) \n",
    "# returns JSON object as  \n",
    "# a dictionary \n",
    "data = json.load(f) \n",
    "f.close()\n",
    "print(data.keys())\n",
    "x = data[\"x\"]\n",
    "bins = data[\"bins\"]\n",
    "fig, ax = plt.subplots(figsize=(50, 30))\n",
    "ax.imshow(x)"
   ]
  },
  {
   "cell_type": "code",
   "execution_count": null,
   "metadata": {},
   "outputs": [],
   "source": [
    "last_line = [x_1[49] for x_1 in x]\n",
    "plt.plot(bins,[x_1[49]*500 for x_1 in x])\n",
    "bi, xf =np.histogram(xfinal[50],bins=50)\n",
    "print(len(bi))\n",
    "plt.plot(xf[0:50],bi)\n",
    "print(\"PR left:\",sum(last_line[0:25]))\n",
    "print(\"PR right:\",sum(last_line[26:51]))"
   ]
  },
  {
   "cell_type": "code",
   "execution_count": null,
   "metadata": {},
   "outputs": [],
   "source": [
    "\n",
    "# Opening JSON file \n",
    "f = open(directory_results+'PRs/one_pdf_sim_1.json',) \n",
    "# returns JSON object as  \n",
    "# a dictionary \n",
    "data = json.load(f) \n",
    "f.close()\n",
    "print(data.keys())\n",
    "x_n = data[\"sim\"]\n",
    "plt.plot(x_n[4])\n"
   ]
  },
  {
   "cell_type": "code",
   "execution_count": null,
   "metadata": {
    "scrolled": true
   },
   "outputs": [],
   "source": [
    "\n",
    "# Opening JSON file \n",
    "f = open(directory_results+'PRs/check_best_syntheticStLinearDw.json',) \n",
    "# returns JSON object as  \n",
    "# a dictionary \n",
    "data = json.load(f) \n",
    "f.close()\n",
    "print(data.keys())\n",
    "LL = data[\"LL\"]\n",
    "PR_sim = data[\"PR_sim\"]\n",
    "PR = data[\"PR\"]\n",
    "LL2 = data[\"LL2\"]\n",
    "\n",
    "Nstim=len(PR_sim)\n",
    "plt.plot(PR[0:Nstim],PR_sim,\".\")\n",
    "plt.plot([0,1],[0,1])"
   ]
  }
 ],
 "metadata": {
  "kernelspec": {
   "display_name": "Python 3",
   "language": "python",
   "name": "python3"
  },
  "language_info": {
   "codemirror_mode": {
    "name": "ipython",
    "version": 3
   },
   "file_extension": ".py",
   "mimetype": "text/x-python",
   "name": "python",
   "nbconvert_exporter": "python",
   "pygments_lexer": "ipython3",
   "version": "3.8.5"
  }
 },
 "nbformat": 4,
 "nbformat_minor": 4
}
